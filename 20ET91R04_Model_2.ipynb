{
 "cells": [
  {
   "cell_type": "code",
   "execution_count": null,
   "metadata": {
    "id": "SIpas7RV0N-n"
   },
   "outputs": [],
   "source": [
    "import torch\n",
    "import torch.nn as nn\n",
    "import torch.nn.functional as F\n",
    "import numpy as np\n",
    "from torchvision import transforms,datasets\n",
    "import torch.optim as optim\n",
    "from torch.autograd import Variable\n",
    "import torchvision\n",
    "\n",
    "import matplotlib.pyplot as plt\n",
    "import time"
   ]
  },
  {
   "cell_type": "markdown",
   "metadata": {
    "id": "imlC3FqjGspb"
   },
   "source": [
    "# Load data"
   ]
  },
  {
   "cell_type": "code",
   "execution_count": null,
   "metadata": {
    "colab": {
     "base_uri": "https://localhost:8080/",
     "height": 417,
     "referenced_widgets": [
      "f9d1a6045e634d00a5bdb16fcf751608",
      "bf03ed887d5942b1b9e1dd93ed3fb6c1",
      "f30eae6d433847e89071dbd5990d6bce",
      "a1133bc6d2e44b7e85f5f5edb157c59e",
      "ec99f557cd314db59a3f80acbbf68645",
      "70c30745eee44163a86c255cb62c3c2a",
      "373e3752975e40e9997af17250ae6b43",
      "fed843bf15b24f8abb432a79725e9346",
      "483f0ea3d7b04288ad0e134a3579c6d7",
      "904ad8ed20fa458f85ea056940a402c9",
      "6393d34e51d042478a5f184fd4fd6d23",
      "48a4c342069b4473baca7030b203ac55",
      "16a895bb990e4c0c9f71a334c3c9c7a0",
      "4758e371e89740509f90902ecdc0330e",
      "348befea9199497383b5e0f276dbaa46",
      "731dd76b8fb54d84868b2b5e4f739b5e",
      "552d224bbbd14d15a0bc01393eb7b946",
      "fd426b5f586a43ff81eb71ddc5549fa1",
      "5978a072f1bf4a6f840c8f51c932ca22",
      "6e1b89e33d0b481095565ad44cb851e1",
      "47127b05267945d2938f5f028c26cae5",
      "7fa57e010e574de2aeed6f6f35d11183",
      "355806c2f1c840d09f091b2fc649af9e",
      "d1fe27b2ada54669b7b36c790bb16b93",
      "2ba6108590af4f5d9f76c1cec32b184a",
      "943273a6194a4743b75fe0e3b3e434e6",
      "1d022762d4d14733b2bfc48ad5b3c7c0",
      "09d2d65442aa4e8e9d726da0481b2af6",
      "e67a7ba7ca914170ba6da373169f48a1",
      "d0f536c9889840a9a8b3e46dd4757241",
      "309a6090819847009cb2bc1214239162",
      "f3d6c1fe091949fc8eccfc799aaf5650"
     ]
    },
    "id": "ixpe8RhEv9SI",
    "outputId": "b2b9c8ef-1125-4034-9867-255d19114afe"
   },
   "outputs": [
    {
     "name": "stdout",
     "output_type": "stream",
     "text": [
      "Downloading http://yann.lecun.com/exdb/mnist/train-images-idx3-ubyte.gz to ./data/MNIST/raw/train-images-idx3-ubyte.gz\n"
     ]
    },
    {
     "data": {
      "application/vnd.jupyter.widget-view+json": {
       "model_id": "f9d1a6045e634d00a5bdb16fcf751608",
       "version_major": 2,
       "version_minor": 0
      },
      "text/plain": [
       "HBox(children=(FloatProgress(value=1.0, bar_style='info', max=1.0), HTML(value='')))"
      ]
     },
     "metadata": {
      "tags": []
     },
     "output_type": "display_data"
    },
    {
     "name": "stdout",
     "output_type": "stream",
     "text": [
      "Extracting ./data/MNIST/raw/train-images-idx3-ubyte.gz to ./data/MNIST/raw\n",
      "Downloading http://yann.lecun.com/exdb/mnist/train-labels-idx1-ubyte.gz to ./data/MNIST/raw/train-labels-idx1-ubyte.gz\n"
     ]
    },
    {
     "data": {
      "application/vnd.jupyter.widget-view+json": {
       "model_id": "483f0ea3d7b04288ad0e134a3579c6d7",
       "version_major": 2,
       "version_minor": 0
      },
      "text/plain": [
       "HBox(children=(FloatProgress(value=1.0, bar_style='info', max=1.0), HTML(value='')))"
      ]
     },
     "metadata": {
      "tags": []
     },
     "output_type": "display_data"
    },
    {
     "name": "stdout",
     "output_type": "stream",
     "text": [
      "Extracting ./data/MNIST/raw/train-labels-idx1-ubyte.gz to ./data/MNIST/raw\n",
      "Downloading http://yann.lecun.com/exdb/mnist/t10k-images-idx3-ubyte.gz to ./data/MNIST/raw/t10k-images-idx3-ubyte.gz\n"
     ]
    },
    {
     "data": {
      "application/vnd.jupyter.widget-view+json": {
       "model_id": "552d224bbbd14d15a0bc01393eb7b946",
       "version_major": 2,
       "version_minor": 0
      },
      "text/plain": [
       "HBox(children=(FloatProgress(value=1.0, bar_style='info', max=1.0), HTML(value='')))"
      ]
     },
     "metadata": {
      "tags": []
     },
     "output_type": "display_data"
    },
    {
     "name": "stdout",
     "output_type": "stream",
     "text": [
      "Extracting ./data/MNIST/raw/t10k-images-idx3-ubyte.gz to ./data/MNIST/raw\n",
      "Downloading http://yann.lecun.com/exdb/mnist/t10k-labels-idx1-ubyte.gz to ./data/MNIST/raw/t10k-labels-idx1-ubyte.gz\n"
     ]
    },
    {
     "data": {
      "application/vnd.jupyter.widget-view+json": {
       "model_id": "2ba6108590af4f5d9f76c1cec32b184a",
       "version_major": 2,
       "version_minor": 0
      },
      "text/plain": [
       "HBox(children=(FloatProgress(value=1.0, bar_style='info', max=1.0), HTML(value='')))"
      ]
     },
     "metadata": {
      "tags": []
     },
     "output_type": "display_data"
    },
    {
     "name": "stdout",
     "output_type": "stream",
     "text": [
      "Extracting ./data/MNIST/raw/t10k-labels-idx1-ubyte.gz to ./data/MNIST/raw\n",
      "Processing...\n"
     ]
    },
    {
     "name": "stderr",
     "output_type": "stream",
     "text": [
      "/usr/local/lib/python3.6/dist-packages/torchvision/datasets/mnist.py:480: UserWarning: The given NumPy array is not writeable, and PyTorch does not support non-writeable tensors. This means you can write to the underlying (supposedly non-writeable) NumPy array using the tensor. You may want to copy the array to protect its data or make it writeable before converting it to a tensor. This type of warning will be suppressed for the rest of this program. (Triggered internally at  /pytorch/torch/csrc/utils/tensor_numpy.cpp:141.)\n",
      "  return torch.from_numpy(parsed.astype(m[2], copy=False)).view(*s)\n"
     ]
    },
    {
     "name": "stdout",
     "output_type": "stream",
     "text": [
      "Done!\n",
      "\n",
      "\n",
      "\n"
     ]
    }
   ],
   "source": [
    "apply_transform = transforms.Compose([transforms.Resize(32), transforms.ToTensor()])\n",
    "\n",
    "BatchSize1 = 256\n",
    "BatchSize2 = 512\n",
    "BatchSize3 = 1024\n",
    "\n",
    "trainset1 = datasets.MNIST(root='./data', train=True, download=True, transform=apply_transform)\n",
    "trainLoader1 = torch.utils.data.DataLoader(trainset1, batch_size = BatchSize1, shuffle=True, num_workers=4) # Creating dataloader \n",
    "\n",
    "testset1 = datasets.MNIST(root='./data', train=False, download=True, transform=apply_transform)\n",
    "testLoader1 = torch.utils.data.DataLoader(testset1, batch_size = BatchSize1, shuffle=True, num_workers=4) # Creating dataloader\n",
    "\n",
    "trainset2 = datasets.MNIST(root='./data', train=True, download=True, transform=apply_transform)\n",
    "trainLoader2 = torch.utils.data.DataLoader(trainset2, batch_size = BatchSize2, shuffle=True, num_workers=4) # Creating dataloader \n",
    "\n",
    "testset2 = datasets.MNIST(root='./data', train=False, download=True, transform=apply_transform)\n",
    "testLoader2 = torch.utils.data.DataLoader(testset2, batch_size = BatchSize2, shuffle=True, num_workers=4) # Creating dataloader\n",
    "\n",
    "trainset3 = datasets.MNIST(root='./data', train=True, download=True, transform=apply_transform)\n",
    "trainLoader3 = torch.utils.data.DataLoader(trainset3, batch_size = BatchSize3, shuffle=True, num_workers=4) # Creating dataloader \n",
    "\n",
    "testset3 = datasets.MNIST(root='./data', train=False, download=True, transform=apply_transform)\n",
    "testLoader3 = torch.utils.data.DataLoader(testset3, batch_size = BatchSize3, shuffle=True, num_workers=4) # Creating dataloader"
   ]
  },
  {
   "cell_type": "code",
   "execution_count": null,
   "metadata": {
    "colab": {
     "base_uri": "https://localhost:8080/"
    },
    "id": "-p9AqZNnwTMH",
    "outputId": "e65993d7-a4fc-4f53-895e-545a88c88ba0"
   },
   "outputs": [
    {
     "name": "stdout",
     "output_type": "stream",
     "text": [
      "No. of samples in train set1: 60000\n",
      "No. of samples in test set1: 10000\n",
      "No. of samples in train set2: 60000\n",
      "No. of samples in test set2: 10000\n",
      "No. of samples in train set3: 60000\n",
      "No. of samples in test set3: 10000\n"
     ]
    }
   ],
   "source": [
    "# Size of train and test datasets with batch size= 256\n",
    "\n",
    "print('No. of samples in train set1: '+str(len(trainLoader1.dataset)))\n",
    "print('No. of samples in test set1: '+str(len(testLoader1.dataset)))\n",
    "\n",
    "# Size of train and test datasets with batch size= 512\n",
    "\n",
    "print('No. of samples in train set2: '+str(len(trainLoader2.dataset)))\n",
    "print('No. of samples in test set2: '+str(len(testLoader2.dataset)))\n",
    "\n",
    "# Size of train and test datasets with batch size= 1024\n",
    "\n",
    "print('No. of samples in train set3: '+str(len(trainLoader3.dataset)))\n",
    "print('No. of samples in test set3: '+str(len(testLoader3.dataset)))"
   ]
  },
  {
   "cell_type": "markdown",
   "metadata": {
    "id": "kd_0P5EwG0Fb"
   },
   "source": [
    "# Ans. No. 2: Define model architecture"
   ]
  },
  {
   "cell_type": "code",
   "execution_count": null,
   "metadata": {
    "id": "WKvJeOjfwX5w"
   },
   "outputs": [],
   "source": [
    "class LeNet(nn.Module):\n",
    "    def __init__(self):\n",
    "        super(LeNet, self).__init__()\n",
    "        \n",
    "        self.conv1 = nn.Conv2d(1, 6, kernel_size=5) # 1 input image channel, 6 output channels, 5*5 square convolution kernals\n",
    "        self.pool1 = nn.MaxPool2d(kernel_size=2, stride=2)\n",
    "        \n",
    "        self.conv2 = nn.Conv2d(6, 16, kernel_size=5)\n",
    "        self.pool2 = nn.MaxPool2d(kernel_size=2, stride=2)\n",
    "        \n",
    "        self.fc1 = nn.Linear(400, 120)\n",
    "        self.fc2 = nn.Linear(120, 84)\n",
    "        self.fc3 = nn.Linear(84, 10)\n",
    "        \n",
    "    def forward(self, x):\n",
    "        x = F.relu(self.conv1(x))\n",
    "        x = self.pool1(x)\n",
    "        x = F.relu(self.conv2(x))\n",
    "        x = self.pool2(x)\n",
    "        x = x.view(-1, 400)\n",
    "        x = F.relu(self.fc1(x))\n",
    "        x = F.relu(self.fc2(x))\n",
    "        x = self.fc3(x)\n",
    "        return F.log_softmax(x, dim=1)"
   ]
  },
  {
   "cell_type": "code",
   "execution_count": null,
   "metadata": {
    "colab": {
     "base_uri": "https://localhost:8080/"
    },
    "id": "F0RRDnd5wbXn",
    "outputId": "7a0ad4fd-b58e-4785-c61b-73e7e54ac149"
   },
   "outputs": [
    {
     "name": "stdout",
     "output_type": "stream",
     "text": [
      "LeNet(\n",
      "  (conv1): Conv2d(1, 6, kernel_size=(5, 5), stride=(1, 1))\n",
      "  (pool1): MaxPool2d(kernel_size=2, stride=2, padding=0, dilation=1, ceil_mode=False)\n",
      "  (conv2): Conv2d(6, 16, kernel_size=(5, 5), stride=(1, 1))\n",
      "  (pool2): MaxPool2d(kernel_size=2, stride=2, padding=0, dilation=1, ceil_mode=False)\n",
      "  (fc1): Linear(in_features=400, out_features=120, bias=True)\n",
      "  (fc2): Linear(in_features=120, out_features=84, bias=True)\n",
      "  (fc3): Linear(in_features=84, out_features=10, bias=True)\n",
      ")\n",
      "LeNet(\n",
      "  (conv1): Conv2d(1, 6, kernel_size=(5, 5), stride=(1, 1))\n",
      "  (pool1): MaxPool2d(kernel_size=2, stride=2, padding=0, dilation=1, ceil_mode=False)\n",
      "  (conv2): Conv2d(6, 16, kernel_size=(5, 5), stride=(1, 1))\n",
      "  (pool2): MaxPool2d(kernel_size=2, stride=2, padding=0, dilation=1, ceil_mode=False)\n",
      "  (fc1): Linear(in_features=400, out_features=120, bias=True)\n",
      "  (fc2): Linear(in_features=120, out_features=84, bias=True)\n",
      "  (fc3): Linear(in_features=84, out_features=10, bias=True)\n",
      ")\n",
      "LeNet(\n",
      "  (conv1): Conv2d(1, 6, kernel_size=(5, 5), stride=(1, 1))\n",
      "  (pool1): MaxPool2d(kernel_size=2, stride=2, padding=0, dilation=1, ceil_mode=False)\n",
      "  (conv2): Conv2d(6, 16, kernel_size=(5, 5), stride=(1, 1))\n",
      "  (pool2): MaxPool2d(kernel_size=2, stride=2, padding=0, dilation=1, ceil_mode=False)\n",
      "  (fc1): Linear(in_features=400, out_features=120, bias=True)\n",
      "  (fc2): Linear(in_features=120, out_features=84, bias=True)\n",
      "  (fc3): Linear(in_features=84, out_features=10, bias=True)\n",
      ")\n"
     ]
    }
   ],
   "source": [
    "net1 = LeNet()\n",
    "net2 = LeNet()\n",
    "net3 = LeNet()\n",
    "\n",
    "print(net1)\n",
    "print(net2)\n",
    "print(net3)"
   ]
  },
  {
   "cell_type": "markdown",
   "metadata": {
    "id": "Es-0SvgM1Ttp"
   },
   "source": [
    "# Ans. No. 3: Training and testing with batch size=256 and learning rate=0.1"
   ]
  },
  {
   "cell_type": "code",
   "execution_count": null,
   "metadata": {
    "id": "3GfOojzGwhdN"
   },
   "outputs": [],
   "source": [
    "criterion = nn.CrossEntropyLoss()\n",
    "learning_rate1 = 0.1\n",
    "optimizer1 = optim.SGD(net1.parameters(), lr=learning_rate1, momentum=0.9)\n",
    "num_epochs = 50\n",
    "\n",
    "train_loss1 = []\n",
    "train_acc1 = []\n",
    "test_loss1 = []\n",
    "test_acc1 = []\n",
    "\n",
    "for epoch in range(num_epochs):\n",
    "    \n",
    "    running_loss = 0.0\n",
    "    running_corr = 0\n",
    "    \n",
    "    for i,data in enumerate(trainLoader1):\n",
    "        inputs, labels = data\n",
    "        \n",
    "        # Initializing model gradients to zero\n",
    "        optimizer1.zero_grad()\n",
    "        \n",
    "        # Data feed-forward through the network\n",
    "        outputs1 = net1(inputs)\n",
    "        \n",
    "        # Predicted class is the one with maximum probability\n",
    "        preds1 = torch.argmax(outputs1, dim=1)\n",
    "        \n",
    "        # Finding the loss\n",
    "        loss = criterion(outputs1, labels)\n",
    "        \n",
    "        # Accumulating the loss for each batch\n",
    "        running_loss += loss\n",
    "        \n",
    "        # Accumulating the number of correct predictions\n",
    "        running_corr += torch.sum(preds1==labels)\n",
    "        \n",
    "    totalLoss1 = running_loss/(i+1)\n",
    "    # Calculating gradients\n",
    "    totalLoss1.backward()\n",
    "    \n",
    "    # Updating the model parameters\n",
    "    optimizer1.step()\n",
    "    \n",
    "    epoch_loss1 = running_loss.item()/(i+1) # Total loss for one epoch\n",
    "    epoch_acc1 = running_corr.item()/60000\n",
    "    \n",
    "    train_loss1.append(epoch_loss1) #Saving the loss over epochs for plotting the graph\n",
    "    train_acc1.append(epoch_acc1) #Saving the accuracy over epochs for plotting the graph\n",
    "    \n",
    "    running_loss = 0.0\n",
    "    running_corr = 0\n",
    "    \n",
    "    for i,data in enumerate(testLoader1):\n",
    "        inputs, labels = data   \n",
    "        \n",
    "        # Data feed-forward through the network\n",
    "        outputs1 = net1(inputs)\n",
    "        \n",
    "        # Predicted class is the one with maximum probability\n",
    "        preds1 = torch.argmax(outputs1, dim=1)\n",
    "        \n",
    "        # Finding the loss\n",
    "        loss = criterion(outputs1, labels)\n",
    "        \n",
    "        # Accumulating the loss for each batch\n",
    "        running_loss += loss\n",
    "        \n",
    "        # Accumulating the number of correct predictions\n",
    "        running_corr += torch.sum(preds1==labels)\n",
    "        \n",
    "    totalLoss1 = running_loss/(i+1)\n",
    "   \n",
    "     \n",
    "    epoch_loss2 = running_loss.item()/(i+1) # Total loss for one epoch\n",
    "    epoch_acc2 = running_corr.item()/10000\n",
    "    \n",
    "    test_loss1.append(epoch_loss2) #Saving the loss over epochs for plotting the graph\n",
    "    test_acc1.append(epoch_acc2) #Saving the accuracy over epochs for plotting the graph"
   ]
  },
  {
   "cell_type": "markdown",
   "metadata": {
    "id": "5Fl5U4t4NkTt"
   },
   "source": [
    "# Ans. No. 4: Calculations of losses and accuracies"
   ]
  },
  {
   "cell_type": "code",
   "execution_count": null,
   "metadata": {
    "colab": {
     "base_uri": "https://localhost:8080/"
    },
    "id": "9eFwhQv1Hd8b",
    "outputId": "4fdc7ae3-10c3-47e9-eac6-4cbdf351e57e"
   },
   "outputs": [
    {
     "name": "stdout",
     "output_type": "stream",
     "text": [
      "Epoch 1/50 : Training loss: 2.3043 | Training Accuracy: 9.0450\n",
      "Epoch 1/50 : Testing loss: 2.3036 | Testing Accuracy: 8.9400\n",
      "Epoch 2/50 : Training loss: 2.3038 | Training Accuracy: 9.0633\n",
      "Epoch 2/50 : Testing loss: 2.3027 | Testing Accuracy: 9.0800\n",
      "Epoch 3/50 : Training loss: 2.3028 | Training Accuracy: 9.2017\n",
      "Epoch 3/50 : Testing loss: 2.3015 | Testing Accuracy: 10.0200\n",
      "Epoch 4/50 : Training loss: 2.3015 | Training Accuracy: 10.0900\n",
      "Epoch 4/50 : Testing loss: 2.3000 | Testing Accuracy: 12.2100\n",
      "Epoch 5/50 : Training loss: 2.3001 | Training Accuracy: 11.9817\n",
      "Epoch 5/50 : Testing loss: 2.2981 | Testing Accuracy: 18.2900\n",
      "Epoch 6/50 : Training loss: 2.2984 | Training Accuracy: 17.3600\n",
      "Epoch 6/50 : Testing loss: 2.2961 | Testing Accuracy: 23.1700\n",
      "Epoch 7/50 : Training loss: 2.2964 | Training Accuracy: 22.3183\n",
      "Epoch 7/50 : Testing loss: 2.2938 | Testing Accuracy: 30.0900\n",
      "Epoch 8/50 : Training loss: 2.2940 | Training Accuracy: 29.6417\n",
      "Epoch 8/50 : Testing loss: 2.2909 | Testing Accuracy: 33.4200\n",
      "Epoch 9/50 : Training loss: 2.2914 | Training Accuracy: 32.7750\n",
      "Epoch 9/50 : Testing loss: 2.2879 | Testing Accuracy: 34.4900\n",
      "Epoch 10/50 : Training loss: 2.2883 | Training Accuracy: 33.9983\n",
      "Epoch 10/50 : Testing loss: 2.2844 | Testing Accuracy: 35.7800\n",
      "Epoch 11/50 : Training loss: 2.2847 | Training Accuracy: 34.6967\n",
      "Epoch 11/50 : Testing loss: 2.2793 | Testing Accuracy: 36.9200\n",
      "Epoch 12/50 : Training loss: 2.2800 | Training Accuracy: 35.8467\n",
      "Epoch 12/50 : Testing loss: 2.2734 | Testing Accuracy: 38.6200\n",
      "Epoch 13/50 : Training loss: 2.2739 | Training Accuracy: 37.4800\n",
      "Epoch 13/50 : Testing loss: 2.2652 | Testing Accuracy: 42.0400\n",
      "Epoch 14/50 : Training loss: 2.2660 | Training Accuracy: 40.9217\n",
      "Epoch 14/50 : Testing loss: 2.2547 | Testing Accuracy: 47.4500\n",
      "Epoch 15/50 : Training loss: 2.2554 | Training Accuracy: 46.6283\n",
      "Epoch 15/50 : Testing loss: 2.2396 | Testing Accuracy: 51.5100\n",
      "Epoch 16/50 : Training loss: 2.2408 | Training Accuracy: 51.2683\n",
      "Epoch 16/50 : Testing loss: 2.2187 | Testing Accuracy: 53.4400\n",
      "Epoch 17/50 : Training loss: 2.2199 | Training Accuracy: 53.6267\n",
      "Epoch 17/50 : Testing loss: 2.1868 | Testing Accuracy: 54.3200\n",
      "Epoch 18/50 : Training loss: 2.1881 | Training Accuracy: 54.7017\n",
      "Epoch 18/50 : Testing loss: 2.1372 | Testing Accuracy: 55.8800\n",
      "Epoch 19/50 : Training loss: 2.1397 | Training Accuracy: 56.6583\n",
      "Epoch 19/50 : Testing loss: 2.0565 | Testing Accuracy: 61.5800\n",
      "Epoch 20/50 : Training loss: 2.0616 | Training Accuracy: 61.7017\n",
      "Epoch 20/50 : Testing loss: 1.9281 | Testing Accuracy: 65.2700\n",
      "Epoch 21/50 : Training loss: 1.9303 | Training Accuracy: 64.8367\n",
      "Epoch 21/50 : Testing loss: 1.6963 | Testing Accuracy: 65.5500\n",
      "Epoch 22/50 : Training loss: 1.7068 | Training Accuracy: 65.0117\n",
      "Epoch 22/50 : Testing loss: 1.3437 | Testing Accuracy: 69.2000\n",
      "Epoch 23/50 : Training loss: 1.3628 | Training Accuracy: 68.2850\n",
      "Epoch 23/50 : Testing loss: 1.1119 | Testing Accuracy: 69.4300\n",
      "Epoch 24/50 : Training loss: 1.1282 | Training Accuracy: 67.9583\n",
      "Epoch 24/50 : Testing loss: 17.2251 | Testing Accuracy: 10.2800\n",
      "Epoch 25/50 : Training loss: 16.9158 | Training Accuracy: 10.4417\n",
      "Epoch 25/50 : Testing loss: 2.3546 | Testing Accuracy: 21.7600\n",
      "Epoch 26/50 : Training loss: 2.3600 | Training Accuracy: 21.8300\n",
      "Epoch 26/50 : Testing loss: 2.3677 | Testing Accuracy: 11.3500\n",
      "Epoch 27/50 : Training loss: 2.3732 | Training Accuracy: 11.2367\n",
      "Epoch 27/50 : Testing loss: 2.3845 | Testing Accuracy: 11.3500\n",
      "Epoch 28/50 : Training loss: 2.3917 | Training Accuracy: 11.2367\n",
      "Epoch 28/50 : Testing loss: 2.3727 | Testing Accuracy: 11.3500\n",
      "Epoch 29/50 : Training loss: 2.3779 | Training Accuracy: 11.2367\n",
      "Epoch 29/50 : Testing loss: 2.3493 | Testing Accuracy: 11.3500\n",
      "Epoch 30/50 : Training loss: 2.3492 | Training Accuracy: 11.2367\n",
      "Epoch 30/50 : Testing loss: 2.3347 | Testing Accuracy: 11.3500\n",
      "Epoch 31/50 : Training loss: 2.3366 | Training Accuracy: 11.2367\n",
      "Epoch 31/50 : Testing loss: 2.3284 | Testing Accuracy: 11.3500\n",
      "Epoch 32/50 : Training loss: 2.3283 | Training Accuracy: 11.2367\n",
      "Epoch 32/50 : Testing loss: 2.3196 | Testing Accuracy: 11.3500\n",
      "Epoch 33/50 : Training loss: 2.3190 | Training Accuracy: 11.2367\n",
      "Epoch 33/50 : Testing loss: 2.3084 | Testing Accuracy: 11.3500\n",
      "Epoch 34/50 : Training loss: 2.3104 | Training Accuracy: 11.2367\n",
      "Epoch 34/50 : Testing loss: 2.3051 | Testing Accuracy: 11.3500\n",
      "Epoch 35/50 : Training loss: 2.3074 | Training Accuracy: 11.2367\n",
      "Epoch 35/50 : Testing loss: 2.3005 | Testing Accuracy: 11.8200\n",
      "Epoch 36/50 : Training loss: 2.3006 | Training Accuracy: 11.6133\n",
      "Epoch 36/50 : Testing loss: 2.2887 | Testing Accuracy: 19.5400\n",
      "Epoch 37/50 : Training loss: 2.2903 | Training Accuracy: 19.5367\n",
      "Epoch 37/50 : Testing loss: 2.2632 | Testing Accuracy: 20.7100\n",
      "Epoch 38/50 : Training loss: 2.2651 | Training Accuracy: 20.5233\n",
      "Epoch 38/50 : Testing loss: 2.2981 | Testing Accuracy: 17.4400\n",
      "Epoch 39/50 : Training loss: 2.3018 | Training Accuracy: 17.2817\n",
      "Epoch 39/50 : Testing loss: 2.3056 | Testing Accuracy: 11.3500\n",
      "Epoch 40/50 : Training loss: 2.3068 | Training Accuracy: 11.2367\n",
      "Epoch 40/50 : Testing loss: 2.3034 | Testing Accuracy: 11.3500\n",
      "Epoch 41/50 : Training loss: 2.3046 | Training Accuracy: 11.2367\n",
      "Epoch 41/50 : Testing loss: 2.3034 | Testing Accuracy: 11.3500\n",
      "Epoch 42/50 : Training loss: 2.3040 | Training Accuracy: 11.2367\n",
      "Epoch 42/50 : Testing loss: 2.3021 | Testing Accuracy: 11.3500\n",
      "Epoch 43/50 : Training loss: 2.3034 | Training Accuracy: 11.2367\n",
      "Epoch 43/50 : Testing loss: 2.3021 | Testing Accuracy: 11.3500\n",
      "Epoch 44/50 : Training loss: 2.3030 | Training Accuracy: 11.2367\n",
      "Epoch 44/50 : Testing loss: 2.3021 | Testing Accuracy: 11.3500\n",
      "Epoch 45/50 : Training loss: 2.3025 | Training Accuracy: 11.2367\n",
      "Epoch 45/50 : Testing loss: 2.3019 | Testing Accuracy: 11.3500\n",
      "Epoch 46/50 : Training loss: 2.3021 | Training Accuracy: 11.2367\n",
      "Epoch 46/50 : Testing loss: 2.3012 | Testing Accuracy: 11.3500\n",
      "Epoch 47/50 : Training loss: 2.3019 | Training Accuracy: 11.2367\n",
      "Epoch 47/50 : Testing loss: 2.3014 | Testing Accuracy: 11.3500\n",
      "Epoch 48/50 : Training loss: 2.3016 | Training Accuracy: 11.2367\n",
      "Epoch 48/50 : Testing loss: 2.3012 | Testing Accuracy: 11.3500\n",
      "Epoch 49/50 : Training loss: 2.3016 | Training Accuracy: 11.2367\n",
      "Epoch 49/50 : Testing loss: 2.3019 | Testing Accuracy: 11.3500\n",
      "Epoch 50/50 : Training loss: 2.3015 | Training Accuracy: 11.2367\n",
      "Epoch 50/50 : Testing loss: 2.3014 | Testing Accuracy: 11.3500\n"
     ]
    }
   ],
   "source": [
    "for epoch in range(num_epochs):\n",
    "  print('Epoch {:.0f}/{:.0f} : Training loss: {:.4f} | Training Accuracy: {:.4f}'.format(epoch+1,num_epochs,train_loss1[epoch],train_acc1[epoch]*100))\n",
    "  \n",
    "  print('Epoch {:.0f}/{:.0f} : Testing loss: {:.4f} | Testing Accuracy: {:.4f}'.format(epoch+1,num_epochs,test_loss1[epoch],test_acc1[epoch]*100))"
   ]
  },
  {
   "cell_type": "markdown",
   "metadata": {
    "id": "wVFd9pzS1rzP"
   },
   "source": [
    "# Ans. No. 5: Graph showing the loss vs epoch taking batch size=256 and learning rate=0.1"
   ]
  },
  {
   "cell_type": "code",
   "execution_count": null,
   "metadata": {
    "colab": {
     "base_uri": "https://localhost:8080/",
     "height": 367
    },
    "id": "uAbdgxjz1k9Q",
    "outputId": "f4a19c85-27e2-4956-bf1c-49b0cb71d994"
   },
   "outputs": [
    {
     "data": {
      "text/plain": [
       "Text(0.5, 1.0, 'Fig. 2: Testing loss vs. epoch')"
      ]
     },
     "execution_count": 18,
     "metadata": {
      "tags": []
     },
     "output_type": "execute_result"
    },
    {
     "data": {
      "image/png": "[encoded data removed]",
      "text/plain": [
       "<Figure size 1080x360 with 2 Axes>"
      ]
     },
     "metadata": {
      "needs_background": "light",
      "tags": []
     },
     "output_type": "display_data"
    }
   ],
   "source": [
    "fig = plt.figure(figsize=[15,5]) \n",
    "plt.subplot(121)\n",
    "plt.plot(range(num_epochs),train_loss1,'r-',label='Batch size=256, lr=0.1') \n",
    "plt.legend(loc='upper right')\n",
    "plt.xlabel('Epochs')\n",
    "plt.ylabel('Training loss')\n",
    "plt.title('Fig. 1: Training loss vs. epoch')\n",
    "plt.subplot(122)\n",
    "plt.plot(range(num_epochs),test_loss1,'b-',label='Batch size=256, lr=0.1') \n",
    "plt.legend(loc='upper right')\n",
    "plt.xlabel('Epochs')\n",
    "plt.ylabel('Testing loss')\n",
    "plt.title('Fig. 2: Testing loss vs. epoch')"
   ]
  },
  {
   "cell_type": "markdown",
   "metadata": {
    "id": "kXICoIo9n5VC"
   },
   "source": [
    "# Training and testing with batch size=512 and learning rate=0.1"
   ]
  },
  {
   "cell_type": "code",
   "execution_count": null,
   "metadata": {
    "id": "mrYiljUIO4PU"
   },
   "outputs": [],
   "source": [
    "criterion = nn.CrossEntropyLoss()\n",
    "learning_rate1 = 0.1\n",
    "optimizer2 = optim.SGD(net2.parameters(), lr=learning_rate1, momentum=0.9)\n",
    "num_epochs = 50\n",
    "\n",
    "train_loss2 = []\n",
    "train_acc2 = []\n",
    "test_loss2 = []\n",
    "test_acc2 = []\n",
    "\n",
    "for epoch in range(num_epochs):\n",
    "    \n",
    "    running_loss = 0.0\n",
    "    running_corr = 0\n",
    "    \n",
    "    for i,data in enumerate(trainLoader2):\n",
    "        inputs, labels = data\n",
    "        \n",
    "        # Initializing model gradients to zero\n",
    "        optimizer2.zero_grad()\n",
    "        \n",
    "        # Data feed-forward through the network\n",
    "        outputs2 = net2(inputs)\n",
    "        \n",
    "        # Predicted class is the one with maximum probability\n",
    "        preds2 = torch.argmax(outputs2, dim=1)\n",
    "        \n",
    "        # Finding the loss\n",
    "        loss = criterion(outputs2, labels)\n",
    "        \n",
    "        # Accumulating the loss for each batch\n",
    "        running_loss += loss\n",
    "        \n",
    "        # Accumulating the number of correct predictions\n",
    "        running_corr += torch.sum(preds2==labels)\n",
    "        \n",
    "    totalLoss2 = running_loss/(i+1)\n",
    "    # Calculating gradients\n",
    "    totalLoss2.backward()\n",
    "    \n",
    "    # Updating the model parameters\n",
    "    optimizer2.step()\n",
    "    \n",
    "    epoch_loss1 = running_loss.item()/(i+1) # Total loss for one epoch\n",
    "    epoch_acc1 = running_corr.item()/60000\n",
    "    \n",
    "    train_loss2.append(epoch_loss1) #Saving the loss over epochs for plotting the graph\n",
    "    train_acc2.append(epoch_acc1) #Saving the accuracy over epochs for plotting the graph\n",
    "    \n",
    "    running_loss = 0.0\n",
    "    running_corr = 0\n",
    "    \n",
    "    for i,data in enumerate(testLoader2):\n",
    "        inputs, labels = data   \n",
    "        \n",
    "        # Data feed-forward through the network\n",
    "        outputs2 = net2(inputs)\n",
    "        \n",
    "        # Predicted class is the one with maximum probability\n",
    "        preds2 = torch.argmax(outputs2, dim=1)\n",
    "        \n",
    "        # Finding the loss\n",
    "        loss = criterion(outputs2, labels)\n",
    "        \n",
    "        # Accumulating the loss for each batch\n",
    "        running_loss += loss\n",
    "        \n",
    "        # Accumulating the number of correct predictions\n",
    "        running_corr += torch.sum(preds2==labels)\n",
    "        \n",
    "    totalLoss2 = running_loss/(i+1)\n",
    "   \n",
    "     \n",
    "    epoch_loss2 = running_loss.item()/(i+1) # Total loss for one epoch\n",
    "    epoch_acc2 = running_corr.item()/10000\n",
    "    \n",
    "    test_loss2.append(epoch_loss2) #Saving the loss over epochs for plotting the graph\n",
    "    test_acc2.append(epoch_acc2) #Saving the accuracy over epochs for plotting the graph"
   ]
  },
  {
   "cell_type": "markdown",
   "metadata": {
    "id": "Nf4xfIJ-n_S5"
   },
   "source": [
    "# Training and testing with batch size=1024 and learning rate=0.1"
   ]
  },
  {
   "cell_type": "code",
   "execution_count": null,
   "metadata": {
    "id": "JDPcTU1Sb_ZA"
   },
   "outputs": [],
   "source": [
    "criterion = nn.CrossEntropyLoss()\n",
    "learning_rate1 = 0.1\n",
    "optimizer3 = optim.SGD(net3.parameters(), lr=learning_rate1, momentum=0.9)\n",
    "num_epochs = 50\n",
    "\n",
    "train_loss3 = []\n",
    "train_acc3 = []\n",
    "test_loss3 = []\n",
    "test_acc3 = []\n",
    "\n",
    "for epoch in range(num_epochs):\n",
    "    \n",
    "    running_loss = 0.0\n",
    "    running_corr = 0\n",
    "    \n",
    "    for i,data in enumerate(trainLoader3):\n",
    "        inputs, labels = data\n",
    "        \n",
    "        # Initializing model gradients to zero\n",
    "        optimizer3.zero_grad()\n",
    "        \n",
    "        # Data feed-forward through the network\n",
    "        outputs3 = net3(inputs)\n",
    "        \n",
    "        # Predicted class is the one with maximum probability\n",
    "        preds3 = torch.argmax(outputs3, dim=1)\n",
    "        \n",
    "        # Finding the loss\n",
    "        loss = criterion(outputs3, labels)\n",
    "        \n",
    "        # Accumulating the loss for each batch\n",
    "        running_loss += loss\n",
    "        \n",
    "        # Accumulating the number of correct predictions\n",
    "        running_corr += torch.sum(preds3==labels)\n",
    "        \n",
    "    totalLoss3 = running_loss/(i+1)\n",
    "    # Calculating gradients\n",
    "    totalLoss3.backward()\n",
    "    \n",
    "    # Updating the model parameters\n",
    "    optimizer3.step()\n",
    "    \n",
    "    epoch_loss1 = running_loss.item()/(i+1) # Total loss for one epoch\n",
    "    epoch_acc1 = running_corr.item()/60000\n",
    "    \n",
    "    train_loss3.append(epoch_loss1) #Saving the loss over epochs for plotting the graph\n",
    "    train_acc3.append(epoch_acc1) #Saving the accuracy over epochs for plotting the graph\n",
    "    \n",
    "    running_loss = 0.0\n",
    "    running_corr = 0\n",
    "    \n",
    "    for i,data in enumerate(testLoader3):\n",
    "        inputs, labels = data   \n",
    "        \n",
    "        # Data feed-forward through the network\n",
    "        outputs3 = net3(inputs)\n",
    "        \n",
    "        # Predicted class is the one with maximum probability\n",
    "        preds3 = torch.argmax(outputs3, dim=1)\n",
    "        \n",
    "        # Finding the loss\n",
    "        loss = criterion(outputs3, labels)\n",
    "        \n",
    "        # Accumulating the loss for each batch\n",
    "        running_loss += loss\n",
    "        \n",
    "        # Accumulating the number of correct predictions\n",
    "        running_corr += torch.sum(preds3==labels)\n",
    "        \n",
    "    totalLoss3 = running_loss/(i+1)\n",
    "   \n",
    "     \n",
    "    epoch_loss2 = running_loss.item()/(i+1) # Total loss for one epoch\n",
    "    epoch_acc2 = running_corr.item()/10000\n",
    "    \n",
    "    test_loss3.append(epoch_loss2) #Saving the loss over epochs for plotting the graph\n",
    "    test_acc3.append(epoch_acc2) #Saving the accuracy over epochs for plotting the graph"
   ]
  },
  {
   "cell_type": "markdown",
   "metadata": {
    "id": "4eBF_jkHkRNZ"
   },
   "source": [
    "# Ans. No. 6.(a): Variation of train and test errors with increase in batch size."
   ]
  },
  {
   "cell_type": "code",
   "execution_count": null,
   "metadata": {
    "colab": {
     "base_uri": "https://localhost:8080/",
     "height": 367
    },
    "id": "RS2J26MtiZgZ",
    "outputId": "832d8c3c-2e5e-4ab9-e1ab-5e1761cf8d74"
   },
   "outputs": [
    {
     "data": {
      "text/plain": [
       "Text(0.5, 1.0, 'Fig. 4: Testing loss vs. epoch')"
      ]
     },
     "execution_count": 19,
     "metadata": {
      "tags": []
     },
     "output_type": "execute_result"
    },
    {
     "data": {
      "image/png": "[encoded data removed]",
      "text/plain": [
       "<Figure size 1080x360 with 2 Axes>"
      ]
     },
     "metadata": {
      "needs_background": "light",
      "tags": []
     },
     "output_type": "display_data"
    }
   ],
   "source": [
    "fig = plt.figure(figsize=[15,5]) \n",
    "plt.subplot(121)\n",
    "plt.plot(range(num_epochs),train_loss1,'r-',label='Batch size=256')\n",
    "plt.plot(range(num_epochs),train_loss2,'r-', color = 'blue', label='Batch size=512')\n",
    "plt.plot(range(num_epochs),train_loss3,'r-', color = 'green', label='Batch size=1024')  \n",
    "plt.legend(loc='upper right')\n",
    "plt.xlabel('Epochs')\n",
    "plt.ylabel('Training loss/error')\n",
    "plt.title('Fig. 3: Training loss vs. epoch')\n",
    "\n",
    "plt.subplot(122)\n",
    "plt.plot(range(num_epochs),test_loss1,'b-',label='Batch size=256')\n",
    "plt.plot(range(num_epochs),test_loss2,'b-', color = 'red', label='Batch size=512')\n",
    "plt.plot(range(num_epochs),test_loss3,'b-', color = 'green', label='Batch size=1024') \n",
    "plt.legend(loc='upper right')\n",
    "plt.xlabel('Epochs')\n",
    "plt.ylabel('Testing loss/error')\n",
    "plt.title('Fig. 4: Testing loss vs. epoch')"
   ]
  },
  {
   "cell_type": "markdown",
   "metadata": {
    "id": "380fQc4glk4g"
   },
   "source": [
    "# Variation of train and test accuracies with increase in batch size."
   ]
  },
  {
   "cell_type": "code",
   "execution_count": null,
   "metadata": {
    "colab": {
     "base_uri": "https://localhost:8080/",
     "height": 367
    },
    "id": "5s6HChCmk8wX",
    "outputId": "5b6e840c-5008-4fcc-aad9-4c97206c65c7"
   },
   "outputs": [
    {
     "data": {
      "text/plain": [
       "Text(0.5, 1.0, 'Fig. 6: Testing accuracy vs. epoch')"
      ]
     },
     "execution_count": 20,
     "metadata": {
      "tags": []
     },
     "output_type": "execute_result"
    },
    {
     "data": {
      "image/png": "[encoded data removed]",
      "text/plain": [
       "<Figure size 1080x360 with 2 Axes>"
      ]
     },
     "metadata": {
      "needs_background": "light",
      "tags": []
     },
     "output_type": "display_data"
    }
   ],
   "source": [
    "fig = plt.figure(figsize=[15,5]) \n",
    "plt.subplot(121)\n",
    "plt.plot(range(num_epochs),train_acc1,'r-',label='Batch size=256')\n",
    "plt.plot(range(num_epochs),train_acc2,'r-', color = 'blue', label='Batch size=512')\n",
    "plt.plot(range(num_epochs),train_acc3,'r-', color = 'green', label='Batch size=1024')  \n",
    "plt.legend(loc='upper right')\n",
    "plt.xlabel('Epochs')\n",
    "plt.ylabel('Training Accuracy')\n",
    "plt.title('Fig. 5: Training accuracy vs. epoch')\n",
    "\n",
    "plt.subplot(122)\n",
    "plt.plot(range(num_epochs),test_acc1,'b-',label='Batch size=256')\n",
    "plt.plot(range(num_epochs),test_acc2,'b-', color = 'red', label='Batch size=512')\n",
    "plt.plot(range(num_epochs),test_acc3,'b-', color = 'green', label='Batch size=1024') \n",
    "plt.legend(loc='upper right')\n",
    "plt.xlabel('Epochs')\n",
    "plt.ylabel('Testing Accuracy')\n",
    "plt.title('Fig. 6: Testing accuracy vs. epoch')"
   ]
  },
  {
   "cell_type": "code",
   "execution_count": null,
   "metadata": {
    "id": "mLyJjg3qlzXB"
   },
   "outputs": [],
   "source": [
    "net4 = LeNet()\n",
    "net5 = LeNet()\n",
    "net6 = LeNet()\n",
    "net7 = LeNet()"
   ]
  },
  {
   "cell_type": "markdown",
   "metadata": {
    "id": "E0uyHkYynxca"
   },
   "source": [
    "# Training and testing with batch size=256 and learning rate=0.025"
   ]
  },
  {
   "cell_type": "code",
   "execution_count": null,
   "metadata": {
    "id": "zwpMRhEAmP96"
   },
   "outputs": [],
   "source": [
    "criterion = nn.CrossEntropyLoss()\n",
    "learning_rate2 = 0.025\n",
    "optimizer4 = optim.SGD(net4.parameters(), lr=learning_rate2, momentum=0.9)\n",
    "num_epochs = 50\n",
    "\n",
    "train_loss4 = []\n",
    "train_acc4 = []\n",
    "test_loss4 = []\n",
    "test_acc4 = []\n",
    "\n",
    "for epoch in range(num_epochs):\n",
    "    \n",
    "    running_loss = 0.0\n",
    "    running_corr = 0\n",
    "    \n",
    "    for i,data in enumerate(trainLoader1):\n",
    "        inputs, labels = data\n",
    "        \n",
    "        # Initializing model gradients to zero\n",
    "        optimizer4.zero_grad()\n",
    "        \n",
    "        # Data feed-forward through the network\n",
    "        outputs4 = net4(inputs)\n",
    "        \n",
    "        # Predicted class is the one with maximum probability\n",
    "        preds4 = torch.argmax(outputs4, dim=1)\n",
    "        \n",
    "        # Finding the loss\n",
    "        loss = criterion(outputs4, labels)\n",
    "        \n",
    "        # Accumulating the loss for each batch\n",
    "        running_loss += loss\n",
    "        \n",
    "        # Accumulating the number of correct predictions\n",
    "        running_corr += torch.sum(preds4==labels)\n",
    "        \n",
    "    totalLoss4 = running_loss/(i+1)\n",
    "    # Calculating gradients\n",
    "    totalLoss4.backward()\n",
    "    \n",
    "    # Updating the model parameters\n",
    "    optimizer4.step()\n",
    "    \n",
    "    epoch_loss1 = running_loss.item()/(i+1) # Total loss for one epoch\n",
    "    epoch_acc1 = running_corr.item()/60000\n",
    "    \n",
    "    train_loss4.append(epoch_loss1) #Saving the loss over epochs for plotting the graph\n",
    "    train_acc4.append(epoch_acc1) #Saving the accuracy over epochs for plotting the graph\n",
    "    \n",
    "    running_loss = 0.0\n",
    "    running_corr = 0\n",
    "    \n",
    "    for i,data in enumerate(testLoader1):\n",
    "        inputs, labels = data   \n",
    "        \n",
    "        # Data feed-forward through the network\n",
    "        outputs4 = net4(inputs)\n",
    "        \n",
    "        # Predicted class is the one with maximum probability\n",
    "        preds4 = torch.argmax(outputs4, dim=1)\n",
    "        \n",
    "        # Finding the loss\n",
    "        loss = criterion(outputs4, labels)\n",
    "        \n",
    "        # Accumulating the loss for each batch\n",
    "        running_loss += loss\n",
    "        \n",
    "        # Accumulating the number of correct predictions\n",
    "        running_corr += torch.sum(preds4==labels)\n",
    "        \n",
    "    totalLoss4 = running_loss/(i+1)\n",
    "   \n",
    "     \n",
    "    epoch_loss2 = running_loss.item()/(i+1) # Total loss for one epoch\n",
    "    epoch_acc2 = running_corr.item()/10000\n",
    "    \n",
    "    test_loss4.append(epoch_loss2) #Saving the loss over epochs for plotting the graph\n",
    "    test_acc4.append(epoch_acc2) #Saving the accuracy over epochs for plotting the graph"
   ]
  },
  {
   "cell_type": "markdown",
   "metadata": {
    "id": "pbixljEAoI1C"
   },
   "source": [
    "# Training and testing with batch size=256 and learning rate=0.05"
   ]
  },
  {
   "cell_type": "code",
   "execution_count": null,
   "metadata": {
    "id": "QgfSJV9uoNk7"
   },
   "outputs": [],
   "source": [
    "criterion = nn.CrossEntropyLoss()\n",
    "learning_rate3 = 0.05\n",
    "optimizer5 = optim.SGD(net5.parameters(), lr=learning_rate3, momentum=0.9)\n",
    "num_epochs = 50\n",
    "\n",
    "train_loss5 = []\n",
    "train_acc5 = []\n",
    "test_loss5 = []\n",
    "test_acc5 = []\n",
    "\n",
    "for epoch in range(num_epochs):\n",
    "    \n",
    "    running_loss = 0.0\n",
    "    running_corr = 0\n",
    "    \n",
    "    for i,data in enumerate(trainLoader1):\n",
    "        inputs, labels = data\n",
    "        \n",
    "        # Initializing model gradients to zero\n",
    "        optimizer5.zero_grad()\n",
    "        \n",
    "        # Data feed-forward through the network\n",
    "        outputs5 = net5(inputs)\n",
    "        \n",
    "        # Predicted class is the one with maximum probability\n",
    "        preds5 = torch.argmax(outputs5, dim=1)\n",
    "        \n",
    "        # Finding the loss\n",
    "        loss = criterion(outputs5, labels)\n",
    "        \n",
    "        # Accumulating the loss for each batch\n",
    "        running_loss += loss\n",
    "        \n",
    "        # Accumulating the number of correct predictions\n",
    "        running_corr += torch.sum(preds5==labels)\n",
    "        \n",
    "    totalLoss5 = running_loss/(i+1)\n",
    "    # Calculating gradients\n",
    "    totalLoss5.backward()\n",
    "    \n",
    "    # Updating the model parameters\n",
    "    optimizer5.step()\n",
    "    \n",
    "    epoch_loss1 = running_loss.item()/(i+1) # Total loss for one epoch\n",
    "    epoch_acc1 = running_corr.item()/60000\n",
    "    \n",
    "    train_loss5.append(epoch_loss1) #Saving the loss over epochs for plotting the graph\n",
    "    train_acc5.append(epoch_acc1) #Saving the accuracy over epochs for plotting the graph\n",
    "    \n",
    "    running_loss = 0.0\n",
    "    running_corr = 0\n",
    "    \n",
    "    for i,data in enumerate(testLoader1):\n",
    "        inputs, labels = data   \n",
    "        \n",
    "        # Data feed-forward through the network\n",
    "        outputs5 = net5(inputs)\n",
    "        \n",
    "        # Predicted class is the one with maximum probability\n",
    "        preds5 = torch.argmax(outputs5, dim=1)\n",
    "        \n",
    "        # Finding the loss\n",
    "        loss = criterion(outputs5, labels)\n",
    "        \n",
    "        # Accumulating the loss for each batch\n",
    "        running_loss += loss\n",
    "        \n",
    "        # Accumulating the number of correct predictions\n",
    "        running_corr += torch.sum(preds5==labels)\n",
    "        \n",
    "    totalLoss5 = running_loss/(i+1)\n",
    "   \n",
    "     \n",
    "    epoch_loss2 = running_loss.item()/(i+1) # Total loss for one epoch\n",
    "    epoch_acc2 = running_corr.item()/10000\n",
    "    \n",
    "    test_loss5.append(epoch_loss2) #Saving the loss over epochs for plotting the graph\n",
    "    test_acc5.append(epoch_acc2) #Saving the accuracy over epochs for plotting the graph"
   ]
  },
  {
   "cell_type": "markdown",
   "metadata": {
    "id": "BU-o4m6LozM8"
   },
   "source": [
    "# Training and testing with batch size=256 and learning rate=0.2"
   ]
  },
  {
   "cell_type": "code",
   "execution_count": null,
   "metadata": {
    "id": "DTCeG-yGo26r"
   },
   "outputs": [],
   "source": [
    "criterion = nn.CrossEntropyLoss()\n",
    "learning_rate4 = 0.2\n",
    "optimizer6 = optim.SGD(net6.parameters(), lr=learning_rate4, momentum=0.9)\n",
    "num_epochs = 50\n",
    "\n",
    "train_loss6 = []\n",
    "train_acc6 = []\n",
    "test_loss6 = []\n",
    "test_acc6 = []\n",
    "\n",
    "for epoch in range(num_epochs):\n",
    "    \n",
    "    running_loss = 0.0\n",
    "    running_corr = 0\n",
    "    \n",
    "    for i,data in enumerate(trainLoader1):\n",
    "        inputs, labels = data\n",
    "        \n",
    "        # Initializing model gradients to zero\n",
    "        optimizer6.zero_grad()\n",
    "        \n",
    "        # Data feed-forward through the network\n",
    "        outputs6 = net6(inputs)\n",
    "        \n",
    "        # Predicted class is the one with maximum probability\n",
    "        preds6 = torch.argmax(outputs6, dim=1)\n",
    "        \n",
    "        # Finding the loss\n",
    "        loss = criterion(outputs6, labels)\n",
    "        \n",
    "        # Accumulating the loss for each batch\n",
    "        running_loss += loss\n",
    "        \n",
    "        # Accumulating the number of correct predictions\n",
    "        running_corr += torch.sum(preds6==labels)\n",
    "        \n",
    "    totalLoss6 = running_loss/(i+1)\n",
    "    # Calculating gradients\n",
    "    totalLoss6.backward()\n",
    "    \n",
    "    # Updating the model parameters\n",
    "    optimizer6.step()\n",
    "    \n",
    "    epoch_loss1 = running_loss.item()/(i+1) # Total loss for one epoch\n",
    "    epoch_acc1 = running_corr.item()/60000\n",
    "    \n",
    "    train_loss6.append(epoch_loss1) #Saving the loss over epochs for plotting the graph\n",
    "    train_acc6.append(epoch_acc1) #Saving the accuracy over epochs for plotting the graph\n",
    "    \n",
    "    running_loss = 0.0\n",
    "    running_corr = 0\n",
    "    \n",
    "    for i,data in enumerate(testLoader1):\n",
    "        inputs, labels = data   \n",
    "        \n",
    "        # Data feed-forward through the network\n",
    "        outputs6 = net6(inputs)\n",
    "        \n",
    "        # Predicted class is the one with maximum probability\n",
    "        preds6 = torch.argmax(outputs6, dim=1)\n",
    "        \n",
    "        # Finding the loss\n",
    "        loss = criterion(outputs6, labels)\n",
    "        \n",
    "        # Accumulating the loss for each batch\n",
    "        running_loss += loss\n",
    "        \n",
    "        # Accumulating the number of correct predictions\n",
    "        running_corr += torch.sum(preds6==labels)\n",
    "        \n",
    "    totalLoss6 = running_loss/(i+1)\n",
    "   \n",
    "     \n",
    "    epoch_loss2 = running_loss.item()/(i+1) # Total loss for one epoch\n",
    "    epoch_acc2 = running_corr.item()/10000\n",
    "    \n",
    "    test_loss6.append(epoch_loss2) #Saving the loss over epochs for plotting the graph\n",
    "    test_acc6.append(epoch_acc2) #Saving the accuracy over epochs for plotting the graph"
   ]
  },
  {
   "cell_type": "markdown",
   "metadata": {
    "id": "qC6eAbDApXtp"
   },
   "source": [
    "# Training and testing with batch size=256 and learning rate=0.5"
   ]
  },
  {
   "cell_type": "code",
   "execution_count": null,
   "metadata": {
    "id": "POMXpa75piiS"
   },
   "outputs": [],
   "source": [
    "criterion = nn.CrossEntropyLoss()\n",
    "learning_rate5 = 0.5\n",
    "optimizer7 = optim.SGD(net7.parameters(), lr=learning_rate5, momentum=0.9)\n",
    "num_epochs = 50\n",
    "\n",
    "train_loss7 = []\n",
    "train_acc7 = []\n",
    "test_loss7 = []\n",
    "test_acc7 = []\n",
    "\n",
    "for epoch in range(num_epochs):\n",
    "    \n",
    "    running_loss = 0.0\n",
    "    running_corr = 0\n",
    "    \n",
    "    for i,data in enumerate(trainLoader1):\n",
    "        inputs, labels = data\n",
    "        \n",
    "        # Initializing model gradients to zero\n",
    "        optimizer7.zero_grad()\n",
    "        \n",
    "        # Data feed-forward through the network\n",
    "        outputs7 = net7(inputs)\n",
    "        \n",
    "        # Predicted class is the one with maximum probability\n",
    "        preds7 = torch.argmax(outputs7, dim=1)\n",
    "        \n",
    "        # Finding the loss\n",
    "        loss = criterion(outputs7, labels)\n",
    "        \n",
    "        # Accumulating the loss for each batch\n",
    "        running_loss += loss\n",
    "        \n",
    "        # Accumulating the number of correct predictions\n",
    "        running_corr += torch.sum(preds7==labels)\n",
    "        \n",
    "    totalLoss7 = running_loss/(i+1)\n",
    "    # Calculating gradients\n",
    "    totalLoss7.backward()\n",
    "    \n",
    "    # Updating the model parameters\n",
    "    optimizer7.step()\n",
    "    \n",
    "    epoch_loss1 = running_loss.item()/(i+1) # Total loss for one epoch\n",
    "    epoch_acc1 = running_corr.item()/60000\n",
    "    \n",
    "    train_loss7.append(epoch_loss1) #Saving the loss over epochs for plotting the graph\n",
    "    train_acc7.append(epoch_acc1) #Saving the accuracy over epochs for plotting the graph\n",
    "    \n",
    "    running_loss = 0.0\n",
    "    running_corr = 0\n",
    "    \n",
    "    for i,data in enumerate(testLoader1):\n",
    "        inputs, labels = data   \n",
    "        \n",
    "        # Data feed-forward through the network\n",
    "        outputs7 = net7(inputs)\n",
    "        \n",
    "        # Predicted class is the one with maximum probability\n",
    "        preds7 = torch.argmax(outputs7, dim=1)\n",
    "        \n",
    "        # Finding the loss\n",
    "        loss = criterion(outputs7, labels)\n",
    "        \n",
    "        # Accumulating the loss for each batch\n",
    "        running_loss += loss\n",
    "        \n",
    "        # Accumulating the number of correct predictions\n",
    "        running_corr += torch.sum(preds7==labels)\n",
    "        \n",
    "    totalLoss7 = running_loss/(i+1)\n",
    "   \n",
    "     \n",
    "    epoch_loss2 = running_loss.item()/(i+1) # Total loss for one epoch\n",
    "    epoch_acc2 = running_corr.item()/10000\n",
    "    \n",
    "    test_loss7.append(epoch_loss2) #Saving the loss over epochs for plotting the graph\n",
    "    test_acc7.append(epoch_acc2) #Saving the accuracy over epochs for plotting the graph"
   ]
  },
  {
   "cell_type": "code",
   "execution_count": null,
   "metadata": {
    "colab": {
     "base_uri": "https://localhost:8080/",
     "height": 367
    },
    "id": "NG0fmxLdiX6T",
    "outputId": "bdec8d82-de14-4222-ba0c-fbba60efa99d"
   },
   "outputs": [
    {
     "data": {
      "text/plain": [
       "Text(0.5, 1.0, 'Fig. 8: Test accuracy vs. epoch')"
      ]
     },
     "execution_count": 21,
     "metadata": {
      "tags": []
     },
     "output_type": "execute_result"
    },
    {
     "data": {
      "image/png": "[encoded data removed]",
      "text/plain": [
       "<Figure size 1080x360 with 2 Axes>"
      ]
     },
     "metadata": {
      "needs_background": "light",
      "tags": []
     },
     "output_type": "display_data"
    }
   ],
   "source": [
    "fig = plt.figure(figsize=[15,5]) \n",
    "plt.subplot(121)\n",
    "plt.plot(range(num_epochs),test_loss4,'r-',label='Batch size=256, lr=0.025')  \n",
    "plt.legend(loc='upper right')\n",
    "plt.xlabel('Epochs')\n",
    "plt.ylabel('Test error')\n",
    "plt.title('Fig. 7: Test error vs. epoch')\n",
    " \n",
    "plt.subplot(122)\n",
    "plt.plot(range(num_epochs),test_acc4,'r-',label='Batch size=256, lr=0.025')  \n",
    "plt.legend(loc='upper right')\n",
    "plt.xlabel('Epochs')\n",
    "plt.ylabel('Test Accuracy')\n",
    "plt.title('Fig. 8: Test accuracy vs. epoch')"
   ]
  },
  {
   "cell_type": "code",
   "execution_count": null,
   "metadata": {
    "colab": {
     "base_uri": "https://localhost:8080/",
     "height": 367
    },
    "id": "s_Jbt14yjBIR",
    "outputId": "03dbbb2b-78ec-4628-a545-37226ca3732a"
   },
   "outputs": [
    {
     "data": {
      "text/plain": [
       "Text(0.5, 1.0, 'Fig. 10: Test accuracy vs. epoch')"
      ]
     },
     "execution_count": 22,
     "metadata": {
      "tags": []
     },
     "output_type": "execute_result"
    },
    {
     "data": {
      "image/png": "[encoded data removed]",
      "text/plain": [
       "<Figure size 1080x360 with 2 Axes>"
      ]
     },
     "metadata": {
      "needs_background": "light",
      "tags": []
     },
     "output_type": "display_data"
    }
   ],
   "source": [
    "fig = plt.figure(figsize=[15,5]) \n",
    "plt.subplot(121)\n",
    "\n",
    "plt.plot(range(num_epochs),test_loss5,'r-', color = 'blue', label='Batch size=256, lr=0.05')\n",
    "  \n",
    "plt.legend(loc='upper right')\n",
    "plt.xlabel('Epochs')\n",
    "plt.ylabel('Test error')\n",
    "plt.title('Fig. 9: Test error vs. epoch')\n",
    " \n",
    "plt.subplot(122)\n",
    "\n",
    "plt.plot(range(num_epochs),test_acc5,'r-', color = 'blue', label='Batch size=256, lr=0.05')\n",
    " \n",
    "plt.legend(loc='upper right')\n",
    "plt.xlabel('Epochs')\n",
    "plt.ylabel('Test Accuracy')\n",
    "plt.title('Fig. 10: Test accuracy vs. epoch')"
   ]
  },
  {
   "cell_type": "code",
   "execution_count": null,
   "metadata": {
    "colab": {
     "base_uri": "https://localhost:8080/",
     "height": 367
    },
    "id": "aZkWlndPjdRd",
    "outputId": "e2fd9cf0-aa6f-424a-d79c-bfdb149c7e7f"
   },
   "outputs": [
    {
     "data": {
      "text/plain": [
       "Text(0.5, 1.0, 'Fig. 12: Test accuracy vs. epoch')"
      ]
     },
     "execution_count": 23,
     "metadata": {
      "tags": []
     },
     "output_type": "execute_result"
    },
    {
     "data": {
      "image/png": "[encoded data removed]",
      "text/plain": [
       "<Figure size 1080x360 with 2 Axes>"
      ]
     },
     "metadata": {
      "needs_background": "light",
      "tags": []
     },
     "output_type": "display_data"
    }
   ],
   "source": [
    "fig = plt.figure(figsize=[15,5]) \n",
    "plt.subplot(121)\n",
    "\n",
    "plt.plot(range(num_epochs),test_loss1,'r-', color = 'green', label='Batch size=256, lr=0.1')\n",
    "  \n",
    "plt.legend(loc='upper right')\n",
    "plt.xlabel('Epochs')\n",
    "plt.ylabel('Test error')\n",
    "plt.title('Fig. 11: Test error vs. epoch')\n",
    " \n",
    "plt.subplot(122)\n",
    "\n",
    "plt.plot(range(num_epochs),test_acc1,'r-', color = 'green', label='Batch size=256, lr=0.1')\n",
    " \n",
    "plt.legend(loc='upper right')\n",
    "plt.xlabel('Epochs')\n",
    "plt.ylabel('Test Accuracy')\n",
    "plt.title('Fig. 12: Test accuracy vs. epoch')"
   ]
  },
  {
   "cell_type": "code",
   "execution_count": null,
   "metadata": {
    "colab": {
     "base_uri": "https://localhost:8080/",
     "height": 367
    },
    "id": "dst1uPghjx0r",
    "outputId": "0ea9f8b3-a280-4b0b-8062-bfcae026e92e"
   },
   "outputs": [
    {
     "data": {
      "text/plain": [
       "Text(0.5, 1.0, 'Fig. 14: Test accuracy vs. epoch')"
      ]
     },
     "execution_count": 24,
     "metadata": {
      "tags": []
     },
     "output_type": "execute_result"
    },
    {
     "data": {
      "image/png": "[encoded data removed]",
      "text/plain": [
       "<Figure size 1080x360 with 2 Axes>"
      ]
     },
     "metadata": {
      "needs_background": "light",
      "tags": []
     },
     "output_type": "display_data"
    }
   ],
   "source": [
    "fig = plt.figure(figsize=[15,5]) \n",
    "plt.subplot(121)\n",
    "\n",
    "plt.plot(range(num_epochs),test_loss6,'r-', color = 'black', label='Batch size=256, lr=0.2') \n",
    "\n",
    "plt.legend(loc='upper right')\n",
    "plt.xlabel('Epochs')\n",
    "plt.ylabel('Test error')\n",
    "plt.title('Fig. 13: Test error vs. epoch')\n",
    " \n",
    "plt.subplot(122)\n",
    "\n",
    "plt.plot(range(num_epochs),test_acc6,'r-', color = 'black', label='Batch size=256, lr=0.2') \n",
    "  \n",
    "plt.legend(loc='upper right')\n",
    "plt.xlabel('Epochs')\n",
    "plt.ylabel('Test Accuracy')\n",
    "plt.title('Fig. 14: Test accuracy vs. epoch')"
   ]
  },
  {
   "cell_type": "code",
   "execution_count": null,
   "metadata": {
    "colab": {
     "base_uri": "https://localhost:8080/",
     "height": 367
    },
    "id": "qFjlU88SkCto",
    "outputId": "7a91a764-02d1-44e0-f323-51d21ede8161"
   },
   "outputs": [
    {
     "data": {
      "text/plain": [
       "Text(0.5, 1.0, 'Fig. 16: Test accuracy vs. epoch')"
      ]
     },
     "execution_count": 25,
     "metadata": {
      "tags": []
     },
     "output_type": "execute_result"
    },
    {
     "data": {
      "image/png": "[encoded data removed]",
      "text/plain": [
       "<Figure size 1080x360 with 2 Axes>"
      ]
     },
     "metadata": {
      "needs_background": "light",
      "tags": []
     },
     "output_type": "display_data"
    }
   ],
   "source": [
    "fig = plt.figure(figsize=[15,5]) \n",
    "plt.subplot(121)\n",
    " \n",
    "plt.plot(range(num_epochs),test_loss7,'r-', color = 'orange', label='Batch size=256, lr=0.5')  \n",
    "plt.legend(loc='upper right')\n",
    "plt.xlabel('Epochs')\n",
    "plt.ylabel('Test error')\n",
    "plt.title('Fig. 15: Test error vs. epoch')\n",
    " \n",
    "plt.subplot(122)\n",
    " \n",
    "plt.plot(range(num_epochs),test_acc7,'r-', color = 'orange', label='Batch size=256, lr=0.5')  \n",
    "plt.legend(loc='upper right')\n",
    "plt.xlabel('Epochs')\n",
    "plt.ylabel('Test Accuracy')\n",
    "plt.title('Fig. 16: Test accuracy vs. epoch')"
   ]
  },
  {
   "cell_type": "markdown",
   "metadata": {
    "id": "dosQfYvSlLVE"
   },
   "source": [
    "# Ans. No. 6.(b):"
   ]
  },
  {
   "cell_type": "code",
   "execution_count": null,
   "metadata": {
    "colab": {
     "base_uri": "https://localhost:8080/",
     "height": 367
    },
    "id": "T1nW6-d3JrnK",
    "outputId": "501ef94e-06a6-44c5-cf65-7ed0a95ab71f"
   },
   "outputs": [
    {
     "data": {
      "text/plain": [
       "Text(0.5, 1.0, 'Fig. 18: Test accuracy vs. epoch')"
      ]
     },
     "execution_count": 26,
     "metadata": {
      "tags": []
     },
     "output_type": "execute_result"
    },
    {
     "data": {
      "image/png": "[encoded data removed]",
      "text/plain": [
       "<Figure size 1080x360 with 2 Axes>"
      ]
     },
     "metadata": {
      "needs_background": "light",
      "tags": []
     },
     "output_type": "display_data"
    }
   ],
   "source": [
    "fig = plt.figure(figsize=[15,5]) \n",
    "plt.subplot(121)\n",
    "plt.plot(range(num_epochs),test_loss4,'r-',label='Batch size=256, lr=0.025')\n",
    "plt.plot(range(num_epochs),test_loss5,'r-', color = 'blue', label='Batch size=256, lr=0.05')\n",
    "plt.plot(range(num_epochs),test_loss1,'r-', color = 'green', label='Batch size=256, lr=0.1')\n",
    "plt.plot(range(num_epochs),test_loss6,'r-', color = 'black', label='Batch size=256, lr=0.2') \n",
    "plt.plot(range(num_epochs),test_loss7,'r-', color = 'orange', label='Batch size=256, lr=0.5')  \n",
    "plt.legend(loc='upper right')\n",
    "plt.xlabel('Epochs')\n",
    "plt.ylabel('Test error')\n",
    "plt.title('Fig. 17: Test error vs. epoch')\n",
    "\n",
    " \n",
    "plt.subplot(122)\n",
    "plt.plot(range(num_epochs),test_acc4,'r-',label='Batch size=256, lr=0.025')\n",
    "plt.plot(range(num_epochs),test_acc5,'r-', color = 'blue', label='Batch size=256, lr=0.05')\n",
    "plt.plot(range(num_epochs),test_acc1,'r-', color = 'green', label='Batch size=256, lr=0.1')\n",
    "plt.plot(range(num_epochs),test_acc6,'r-', color = 'black', label='Batch size=256, lr=0.2') \n",
    "plt.plot(range(num_epochs),test_acc7,'r-', color = 'orange', label='Batch size=256, lr=0.5')  \n",
    "plt.legend(loc='upper right')\n",
    "plt.xlabel('Epochs')\n",
    "plt.ylabel('Test Accuracy')\n",
    "plt.title('Fig. 18: Test accuracy vs. epoch')"
   ]
  },
  {
   "cell_type": "markdown",
   "metadata": {
    "id": "JPvDQ_zPlSEj"
   },
   "source": [
    "# Ans. No. 6.(c):"
   ]
  },
  {
   "cell_type": "code",
   "execution_count": null,
   "metadata": {
    "id": "xPblkA1Loy_A"
   },
   "outputs": [],
   "source": [
    "net8 = LeNet()"
   ]
  },
  {
   "cell_type": "code",
   "execution_count": null,
   "metadata": {
    "id": "FMAxIbQfnPAo"
   },
   "outputs": [],
   "source": [
    "criterion = nn.CrossEntropyLoss()\n",
    "learning_rate = 0.5\n",
    "optimizer8 = optim.SGD(net8.parameters(), lr=learning_rate, momentum=0.9)\n",
    "num_epochs = 50\n",
    "\n",
    "train_loss8 = []\n",
    "train_acc8 = []\n",
    "test_loss8 = []\n",
    "test_acc8 = []\n",
    "\n",
    "for epoch in range(num_epochs):\n",
    "    if num_epochs>=10 and num_epochs<20:\n",
    "      learning_rate = 0.2\n",
    "      optimizer8 = optim.SGD(net8.parameters(), lr=learning_rate, momentum=0.9)\n",
    "    elif num_epochs>=20 and num_epochs<30:\n",
    "      learning_rate = 0.1\n",
    "      optimizer8 = optim.SGD(net8.parameters(), lr=learning_rate, momentum=0.9)\n",
    "    elif num_epochs>=30 and num_epochs<40:\n",
    "      learning_rate = 0.05\n",
    "      optimizer8 = optim.SGD(net8.parameters(), lr=learning_rate, momentum=0.9)\n",
    "    else:\n",
    "      learning_rate = 0.025\n",
    "      optimizer8 = optim.SGD(net8.parameters(), lr=learning_rate, momentum=0.9)\n",
    "\n",
    "    running_loss = 0.0\n",
    "    running_corr = 0\n",
    "    \n",
    "    for i,data in enumerate(trainLoader1):\n",
    "        inputs, labels = data\n",
    "        \n",
    "        # Initializing model gradients to zero\n",
    "        optimizer8.zero_grad()\n",
    "        \n",
    "        # Data feed-forward through the network\n",
    "        outputs8 = net8(inputs)\n",
    "        \n",
    "        # Predicted class is the one with maximum probability\n",
    "        preds8 = torch.argmax(outputs8, dim=1)\n",
    "        \n",
    "        # Finding the loss\n",
    "        loss = criterion(outputs8, labels)\n",
    "        \n",
    "        # Accumulating the loss for each batch\n",
    "        running_loss += loss\n",
    "        \n",
    "        # Accumulating the number of correct predictions\n",
    "        running_corr += torch.sum(preds8==labels)\n",
    "        \n",
    "    totalLoss8 = running_loss/(i+1)\n",
    "    # Calculating gradients\n",
    "    totalLoss8.backward()\n",
    "    \n",
    "    # Updating the model parameters\n",
    "    optimizer8.step()\n",
    "    \n",
    "    epoch_loss1 = running_loss.item()/(i+1) # Total loss for one epoch\n",
    "    epoch_acc1 = running_corr.item()/60000\n",
    "    \n",
    "    train_loss8.append(epoch_loss1) #Saving the loss over epochs for plotting the graph\n",
    "    train_acc8.append(epoch_acc1) #Saving the accuracy over epochs for plotting the graph\n",
    "    \n",
    "    running_loss = 0.0\n",
    "    running_corr = 0\n",
    "    \n",
    "    for i,data in enumerate(testLoader1):\n",
    "        inputs, labels = data   \n",
    "        \n",
    "        # Data feed-forward through the network\n",
    "        outputs8 = net8(inputs)\n",
    "        \n",
    "        # Predicted class is the one with maximum probability\n",
    "        preds8 = torch.argmax(outputs8, dim=1)\n",
    "        \n",
    "        # Finding the loss\n",
    "        loss = criterion(outputs8, labels)\n",
    "        \n",
    "        # Accumulating the loss for each batch\n",
    "        running_loss += loss\n",
    "        \n",
    "        # Accumulating the number of correct predictions\n",
    "        running_corr += torch.sum(preds8==labels)\n",
    "        \n",
    "    totalLoss8 = running_loss/(i+1)\n",
    "   \n",
    "     \n",
    "    epoch_loss2 = running_loss.item()/(i+1) # Total loss for one epoch\n",
    "    epoch_acc2 = running_corr.item()/10000\n",
    "    \n",
    "    test_loss8.append(epoch_loss2) #Saving the loss over epochs for plotting the graph\n",
    "    test_acc8.append(epoch_acc2) #Saving the accuracy over epochs for plotting the graph"
   ]
  },
  {
   "cell_type": "code",
   "execution_count": null,
   "metadata": {
    "colab": {
     "base_uri": "https://localhost:8080/",
     "height": 367
    },
    "id": "drbjOHtPAoOq",
    "outputId": "4b50c6a5-cc4a-4511-f98b-4643a91f1106"
   },
   "outputs": [
    {
     "data": {
      "text/plain": [
       "Text(0.5, 1.0, 'Fig. 20: Test accuracy vs. epoch')"
      ]
     },
     "execution_count": 29,
     "metadata": {
      "tags": []
     },
     "output_type": "execute_result"
    },
    {
     "data": {
      "image/png": "[encoded data removed]",
      "text/plain": [
       "<Figure size 1080x360 with 2 Axes>"
      ]
     },
     "metadata": {
      "needs_background": "light",
      "tags": []
     },
     "output_type": "display_data"
    }
   ],
   "source": [
    "fig = plt.figure(figsize=[15,5]) \n",
    "plt.subplot(121)\n",
    "plt.plot(range(num_epochs),test_loss8,'c-',label='Batch size=256, SGDR')\n",
    "\n",
    "plt.legend(loc='upper right')\n",
    "plt.xlabel('Epochs')\n",
    "plt.ylabel('Test error')\n",
    "plt.title('Fig. 19: Test error vs. epoch')\n",
    "\n",
    " \n",
    "plt.subplot(122)\n",
    "plt.plot(range(num_epochs),test_acc8,'c-',label='Batch size=256, SGDR')\n",
    "\n",
    "plt.legend(loc='upper right')\n",
    "plt.xlabel('Epochs')\n",
    "plt.ylabel('Test Accuracy')\n",
    "plt.title('Fig. 20: Test accuracy vs. epoch')"
   ]
  },
  {
   "cell_type": "markdown",
   "metadata": {
    "id": "zMZtrfZ4tEis"
   },
   "source": [
    "**Ans. No. 6.(b):** The variations of test errors and also the test accuracies with respect to the given 5 learning rates are shown from Fig. 7 to Fig. 16. Also these variations are depicted all together in Fig no. 17 and Fig. no. 18 respectively.\n",
    "  \n",
    "\n",
    "1.   **Case-1 (learning rate=0.025):** When learning rate is 0.025, we can observe that the testing error/loss is decreasing in a very small amount (i.e. 2.30 to 2.22) from Fig. no. 7. In Fig. no. 8, we can see that the testing accuracy is increasing but not significantly (approx. 40% after 50 epochs)  \n",
    "2.   **Case-2 (learning rate=0.05):** When learning rate is 0.05, we can observe from Fig. no.9, that the testing error/loss is slightly changing upto epoch no. 30. Then a huge change compared to the change when learning rate is 0.025, is observed between epoch number 35 to 40.  In Fig. no. 10, we can see that the testing accuracy is significantly changing and it is reached approx. 70% at epoch 33. Then it is decreased with epoch numbers.\n",
    "\n",
    "1.   **Case-3 (learning rate=0.1):** When learning rate is 0.1, we can observe from Fig. no.11, that the testing error/loss is less and not changing sigificantly except from epoch number 20 to 24. Within epoch number 20 to 24 the testing error is higher that the previous two cases. In Fig. no. 12, we can see that the testing accuracy is highest at epoch number 20. Then, there is a sudden fall in testing accuracy.\n",
    "\n",
    "1.   **Case-4 (learning rate=0.2):** In Fig. no. 13, when learning rate is 0.2, the behaviour of the graph, showing the testing error, is quite similar with the previous case (learning rate=0.1). Here, the test error is higher than the previous one. In Fig. no. 14, we can see that the testing accuracy is highest before epoch number 20. Then, there is a sudden fall in testing accuracy like the previous one.\n",
    "2.   **Case-5 (learning rate=0.5):** In Fig. no. 15, when learning rate is 0.5, the behaviour of the graph, showing the testing error, is quite similar with the previous case (learning rate=0.2). Here, the test error is highest than all the previous cases and the highest test error is observed at epoch number 10. In Fig. no. 16, we can see that the testing accuracy is highest at epoch number 10. Then, there is a sudden fall in testing accuracy like the previous one.\n",
    "\n",
    "After all these observations, I will prefer to choose the learning rate as 0.025 for this problem. The reasons are following.\n",
    "\n",
    "\n",
    "*   The testing error is less than all the other cases.\n",
    "*   The testing accuracies are decreased with higher epoch numbers in all the other cases except where the learning rate is 0.025. If learning rate is 0.025, then the testing accuracy is increasing but in a very small amount. So, more epochs will be required to get a significant testing accuracy. \n",
    "\n",
    "\n",
    "\n",
    "\n",
    "\n"
   ]
  },
  {
   "cell_type": "markdown",
   "metadata": {
    "id": "LzzMEKBstEXn"
   },
   "source": [
    "**Ans. No. 6 (c):** \n",
    "\n",
    "*   In the case of Stochastic Gradient Descent with Restarts (SGDR), the testing error is decreasing with the number of epochs but not significantly and it is lying between 2.301 to 2.307. It is shown in Fig. no. 19.\n",
    "*   In Fig. no. 20, it is observed that the testing accuracy is gradually increasing after epoch number 40. \n",
    "\n"
   ]
  },
  {
   "cell_type": "code",
   "execution_count": 34,
   "metadata": {
    "colab": {
     "base_uri": "https://localhost:8080/"
    },
    "id": "NPW5DBlyDy0K",
    "outputId": "f4757fbe-3ad8-4045-ba5d-a0df8b5e40d2"
   },
   "outputs": [
    {
     "name": "stdout",
     "output_type": "stream",
     "text": [
      "Testing accuracy for batch size=256 and learning rate=0.025:  38.15\n"
     ]
    }
   ],
   "source": [
    "correct_pred = 0\n",
    "for data in testLoader1:\n",
    "    inputs,labels = data\n",
    "    # Feedforward train data batch through model\n",
    "    output = net4(inputs) \n",
    "    # Predicted class is the one with maximum probability\n",
    "    preds = torch.argmax(output,dim=1)\n",
    "    correct_pred += torch.sum(preds==labels)\n",
    "\n",
    "test_accuracy1 = correct_pred.item()/10000.0\n",
    "print('Testing accuracy for batch size=256 and learning rate=0.025: ',test_accuracy1*100)"
   ]
  },
  {
   "cell_type": "code",
   "execution_count": 35,
   "metadata": {
    "colab": {
     "base_uri": "https://localhost:8080/"
    },
    "id": "NpJTeAywEv2p",
    "outputId": "9d791530-eb4e-4986-b2ab-9e4dbb036462"
   },
   "outputs": [
    {
     "name": "stdout",
     "output_type": "stream",
     "text": [
      "Testing accuracy for batch size=256 and learning rate=0.05:  11.35\n"
     ]
    }
   ],
   "source": [
    "correct_pred = 0\n",
    "for data in testLoader1:\n",
    "    inputs,labels = data\n",
    "    # Feedforward train data batch through model\n",
    "    output = net5(inputs) \n",
    "    # Predicted class is the one with maximum probability\n",
    "    preds = torch.argmax(output,dim=1)\n",
    "    correct_pred += torch.sum(preds==labels)\n",
    "\n",
    "test_accuracy2 = correct_pred.item()/10000.0\n",
    "print('Testing accuracy for batch size=256 and learning rate=0.05: ',test_accuracy2*100)"
   ]
  },
  {
   "cell_type": "code",
   "execution_count": 38,
   "metadata": {
    "colab": {
     "base_uri": "https://localhost:8080/"
    },
    "id": "63pGEEfJFAbR",
    "outputId": "b8b2c6d5-a034-4925-e24a-8131fc993632"
   },
   "outputs": [
    {
     "name": "stdout",
     "output_type": "stream",
     "text": [
      "Testing accuracy for batch size=256 and learning rate=0.1:  11.35\n"
     ]
    }
   ],
   "source": [
    "correct_pred = 0\n",
    "for data in testLoader1:\n",
    "    inputs,labels = data\n",
    "    # Feedforward train data batch through model\n",
    "    output = net1(inputs) \n",
    "    # Predicted class is the one with maximum probability\n",
    "    preds = torch.argmax(output,dim=1)\n",
    "    correct_pred += torch.sum(preds==labels)\n",
    "\n",
    "test_accuracy3 = correct_pred.item()/10000.0\n",
    "print('Testing accuracy for batch size=256 and learning rate=0.1: ',test_accuracy3*100)"
   ]
  },
  {
   "cell_type": "code",
   "execution_count": 39,
   "metadata": {
    "colab": {
     "base_uri": "https://localhost:8080/"
    },
    "id": "RjJzBIR7FMOJ",
    "outputId": "d6ac12b3-8b36-4d4b-b6dc-07ac4a115e84"
   },
   "outputs": [
    {
     "name": "stdout",
     "output_type": "stream",
     "text": [
      "Testing accuracy for batch size=256 and learning rate=0.2:  11.35\n"
     ]
    }
   ],
   "source": [
    "correct_pred = 0\n",
    "for data in testLoader1:\n",
    "    inputs,labels = data\n",
    "    # Feedforward train data batch through model\n",
    "    output = net6(inputs) \n",
    "    # Predicted class is the one with maximum probability\n",
    "    preds = torch.argmax(output,dim=1)\n",
    "    correct_pred += torch.sum(preds==labels)\n",
    "\n",
    "test_accuracy4 = correct_pred.item()/10000.0\n",
    "print('Testing accuracy for batch size=256 and learning rate=0.2: ',test_accuracy4*100)"
   ]
  },
  {
   "cell_type": "code",
   "execution_count": 40,
   "metadata": {
    "colab": {
     "base_uri": "https://localhost:8080/"
    },
    "id": "cz4Y_zJFFXOB",
    "outputId": "4c84ce4d-b726-4c50-8f58-1a0fdf7fda3f"
   },
   "outputs": [
    {
     "name": "stdout",
     "output_type": "stream",
     "text": [
      "Testing accuracy for batch size=256 and learning rate=0.5:  9.8\n"
     ]
    }
   ],
   "source": [
    "correct_pred = 0\n",
    "for data in testLoader1:\n",
    "    inputs,labels = data\n",
    "    # Feedforward train data batch through model\n",
    "    output = net7(inputs) \n",
    "    # Predicted class is the one with maximum probability\n",
    "    preds = torch.argmax(output,dim=1)\n",
    "    correct_pred += torch.sum(preds==labels)\n",
    "\n",
    "test_accuracy5 = correct_pred.item()/10000.0\n",
    "print('Testing accuracy for batch size=256 and learning rate=0.5: ',test_accuracy5*100)"
   ]
  },
  {
   "cell_type": "code",
   "execution_count": 43,
   "metadata": {
    "colab": {
     "base_uri": "https://localhost:8080/"
    },
    "id": "BHdi_7w5VJMU",
    "outputId": "84c11a1d-8fba-44ee-9a52-f3ead728e1c0"
   },
   "outputs": [
    {
     "name": "stdout",
     "output_type": "stream",
     "text": [
      "Testing accuracy for batch size=256 with SGDR:  10.11\n"
     ]
    }
   ],
   "source": [
    "correct_pred = 0\n",
    "for data in testLoader1:\n",
    "    inputs,labels = data\n",
    "    # Feedforward train data batch through model\n",
    "    output = net8(inputs) \n",
    "    # Predicted class is the one with maximum probability\n",
    "    preds = torch.argmax(output,dim=1)\n",
    "    correct_pred += torch.sum(preds==labels)\n",
    "\n",
    "test_accuracy6 = correct_pred.item()/10000.0\n",
    "print('Testing accuracy for batch size=256 with SGDR: ',test_accuracy6*100)"
   ]
  }
 ],
 "metadata": {
  "accelerator": "TPU",
  "colab": {
   "collapsed_sections": [],
   "name": "20ET91R04-LeNet.ipynb",
   "provenance": []
  },
  "kernelspec": {
   "display_name": "Python 3",
   "language": "python",
   "name": "python3"
  },
  "language_info": {
   "codemirror_mode": {
    "name": "ipython",
    "version": 3
   },
   "file_extension": ".py",
   "mimetype": "text/x-python",
   "name": "python",
   "nbconvert_exporter": "python",
   "pygments_lexer": "ipython3",
   "version": "3.8.5"
  },
  "widgets": {
   "application/vnd.jupyter.widget-state+json": {
    "09d2d65442aa4e8e9d726da0481b2af6": {
     "model_module": "@jupyter-widgets/controls",
     "model_name": "HTMLModel",
     "state": {
      "_dom_classes": [],
      "_model_module": "@jupyter-widgets/controls",
      "_model_module_version": "1.5.0",
      "_model_name": "HTMLModel",
      "_view_count": null,
      "_view_module": "@jupyter-widgets/controls",
      "_view_module_version": "1.5.0",
      "_view_name": "HTMLView",
      "description": "",
      "description_tooltip": null,
      "layout": "IPY_MODEL_f3d6c1fe091949fc8eccfc799aaf5650",
      "placeholder": "​",
      "style": "IPY_MODEL_309a6090819847009cb2bc1214239162",
      "value": " 8192/? [00:00&lt;00:00, 17883.13it/s]"
     }
    },
    "16a895bb990e4c0c9f71a334c3c9c7a0": {
     "model_module": "@jupyter-widgets/controls",
     "model_name": "ProgressStyleModel",
     "state": {
      "_model_module": "@jupyter-widgets/controls",
      "_model_module_version": "1.5.0",
      "_model_name": "ProgressStyleModel",
      "_view_count": null,
      "_view_module": "@jupyter-widgets/base",
      "_view_module_version": "1.2.0",
      "_view_name": "StyleView",
      "bar_color": null,
      "description_width": "initial"
     }
    },
    "1d022762d4d14733b2bfc48ad5b3c7c0": {
     "model_module": "@jupyter-widgets/controls",
     "model_name": "FloatProgressModel",
     "state": {
      "_dom_classes": [],
      "_model_module": "@jupyter-widgets/controls",
      "_model_module_version": "1.5.0",
      "_model_name": "FloatProgressModel",
      "_view_count": null,
      "_view_module": "@jupyter-widgets/controls",
      "_view_module_version": "1.5.0",
      "_view_name": "ProgressView",
      "bar_style": "success",
      "description": "",
      "description_tooltip": null,
      "layout": "IPY_MODEL_d0f536c9889840a9a8b3e46dd4757241",
      "max": 1,
      "min": 0,
      "orientation": "horizontal",
      "style": "IPY_MODEL_e67a7ba7ca914170ba6da373169f48a1",
      "value": 1
     }
    },
    "2ba6108590af4f5d9f76c1cec32b184a": {
     "model_module": "@jupyter-widgets/controls",
     "model_name": "HBoxModel",
     "state": {
      "_dom_classes": [],
      "_model_module": "@jupyter-widgets/controls",
      "_model_module_version": "1.5.0",
      "_model_name": "HBoxModel",
      "_view_count": null,
      "_view_module": "@jupyter-widgets/controls",
      "_view_module_version": "1.5.0",
      "_view_name": "HBoxView",
      "box_style": "",
      "children": [
       "IPY_MODEL_1d022762d4d14733b2bfc48ad5b3c7c0",
       "IPY_MODEL_09d2d65442aa4e8e9d726da0481b2af6"
      ],
      "layout": "IPY_MODEL_943273a6194a4743b75fe0e3b3e434e6"
     }
    },
    "309a6090819847009cb2bc1214239162": {
     "model_module": "@jupyter-widgets/controls",
     "model_name": "DescriptionStyleModel",
     "state": {
      "_model_module": "@jupyter-widgets/controls",
      "_model_module_version": "1.5.0",
      "_model_name": "DescriptionStyleModel",
      "_view_count": null,
      "_view_module": "@jupyter-widgets/base",
      "_view_module_version": "1.2.0",
      "_view_name": "StyleView",
      "description_width": ""
     }
    },
    "348befea9199497383b5e0f276dbaa46": {
     "model_module": "@jupyter-widgets/controls",
     "model_name": "DescriptionStyleModel",
     "state": {
      "_model_module": "@jupyter-widgets/controls",
      "_model_module_version": "1.5.0",
      "_model_name": "DescriptionStyleModel",
      "_view_count": null,
      "_view_module": "@jupyter-widgets/base",
      "_view_module_version": "1.2.0",
      "_view_name": "StyleView",
      "description_width": ""
     }
    },
    "355806c2f1c840d09f091b2fc649af9e": {
     "model_module": "@jupyter-widgets/controls",
     "model_name": "DescriptionStyleModel",
     "state": {
      "_model_module": "@jupyter-widgets/controls",
      "_model_module_version": "1.5.0",
      "_model_name": "DescriptionStyleModel",
      "_view_count": null,
      "_view_module": "@jupyter-widgets/base",
      "_view_module_version": "1.2.0",
      "_view_name": "StyleView",
      "description_width": ""
     }
    },
    "373e3752975e40e9997af17250ae6b43": {
     "model_module": "@jupyter-widgets/controls",
     "model_name": "DescriptionStyleModel",
     "state": {
      "_model_module": "@jupyter-widgets/controls",
      "_model_module_version": "1.5.0",
      "_model_name": "DescriptionStyleModel",
      "_view_count": null,
      "_view_module": "@jupyter-widgets/base",
      "_view_module_version": "1.2.0",
      "_view_name": "StyleView",
      "description_width": ""
     }
    },
    "47127b05267945d2938f5f028c26cae5": {
     "model_module": "@jupyter-widgets/controls",
     "model_name": "ProgressStyleModel",
     "state": {
      "_model_module": "@jupyter-widgets/controls",
      "_model_module_version": "1.5.0",
      "_model_name": "ProgressStyleModel",
      "_view_count": null,
      "_view_module": "@jupyter-widgets/base",
      "_view_module_version": "1.2.0",
      "_view_name": "StyleView",
      "bar_color": null,
      "description_width": "initial"
     }
    },
    "4758e371e89740509f90902ecdc0330e": {
     "model_module": "@jupyter-widgets/base",
     "model_name": "LayoutModel",
     "state": {
      "_model_module": "@jupyter-widgets/base",
      "_model_module_version": "1.2.0",
      "_model_name": "LayoutModel",
      "_view_count": null,
      "_view_module": "@jupyter-widgets/base",
      "_view_module_version": "1.2.0",
      "_view_name": "LayoutView",
      "align_content": null,
      "align_items": null,
      "align_self": null,
      "border": null,
      "bottom": null,
      "display": null,
      "flex": null,
      "flex_flow": null,
      "grid_area": null,
      "grid_auto_columns": null,
      "grid_auto_flow": null,
      "grid_auto_rows": null,
      "grid_column": null,
      "grid_gap": null,
      "grid_row": null,
      "grid_template_areas": null,
      "grid_template_columns": null,
      "grid_template_rows": null,
      "height": null,
      "justify_content": null,
      "justify_items": null,
      "left": null,
      "margin": null,
      "max_height": null,
      "max_width": null,
      "min_height": null,
      "min_width": null,
      "object_fit": null,
      "object_position": null,
      "order": null,
      "overflow": null,
      "overflow_x": null,
      "overflow_y": null,
      "padding": null,
      "right": null,
      "top": null,
      "visibility": null,
      "width": null
     }
    },
    "483f0ea3d7b04288ad0e134a3579c6d7": {
     "model_module": "@jupyter-widgets/controls",
     "model_name": "HBoxModel",
     "state": {
      "_dom_classes": [],
      "_model_module": "@jupyter-widgets/controls",
      "_model_module_version": "1.5.0",
      "_model_name": "HBoxModel",
      "_view_count": null,
      "_view_module": "@jupyter-widgets/controls",
      "_view_module_version": "1.5.0",
      "_view_name": "HBoxView",
      "box_style": "",
      "children": [
       "IPY_MODEL_6393d34e51d042478a5f184fd4fd6d23",
       "IPY_MODEL_48a4c342069b4473baca7030b203ac55"
      ],
      "layout": "IPY_MODEL_904ad8ed20fa458f85ea056940a402c9"
     }
    },
    "48a4c342069b4473baca7030b203ac55": {
     "model_module": "@jupyter-widgets/controls",
     "model_name": "HTMLModel",
     "state": {
      "_dom_classes": [],
      "_model_module": "@jupyter-widgets/controls",
      "_model_module_version": "1.5.0",
      "_model_name": "HTMLModel",
      "_view_count": null,
      "_view_module": "@jupyter-widgets/controls",
      "_view_module_version": "1.5.0",
      "_view_name": "HTMLView",
      "description": "",
      "description_tooltip": null,
      "layout": "IPY_MODEL_731dd76b8fb54d84868b2b5e4f739b5e",
      "placeholder": "​",
      "style": "IPY_MODEL_348befea9199497383b5e0f276dbaa46",
      "value": " 32768/? [00:00&lt;00:00, 34392.26it/s]"
     }
    },
    "552d224bbbd14d15a0bc01393eb7b946": {
     "model_module": "@jupyter-widgets/controls",
     "model_name": "HBoxModel",
     "state": {
      "_dom_classes": [],
      "_model_module": "@jupyter-widgets/controls",
      "_model_module_version": "1.5.0",
      "_model_name": "HBoxModel",
      "_view_count": null,
      "_view_module": "@jupyter-widgets/controls",
      "_view_module_version": "1.5.0",
      "_view_name": "HBoxView",
      "box_style": "",
      "children": [
       "IPY_MODEL_5978a072f1bf4a6f840c8f51c932ca22",
       "IPY_MODEL_6e1b89e33d0b481095565ad44cb851e1"
      ],
      "layout": "IPY_MODEL_fd426b5f586a43ff81eb71ddc5549fa1"
     }
    },
    "5978a072f1bf4a6f840c8f51c932ca22": {
     "model_module": "@jupyter-widgets/controls",
     "model_name": "FloatProgressModel",
     "state": {
      "_dom_classes": [],
      "_model_module": "@jupyter-widgets/controls",
      "_model_module_version": "1.5.0",
      "_model_name": "FloatProgressModel",
      "_view_count": null,
      "_view_module": "@jupyter-widgets/controls",
      "_view_module_version": "1.5.0",
      "_view_name": "ProgressView",
      "bar_style": "success",
      "description": "",
      "description_tooltip": null,
      "layout": "IPY_MODEL_7fa57e010e574de2aeed6f6f35d11183",
      "max": 1,
      "min": 0,
      "orientation": "horizontal",
      "style": "IPY_MODEL_47127b05267945d2938f5f028c26cae5",
      "value": 1
     }
    },
    "6393d34e51d042478a5f184fd4fd6d23": {
     "model_module": "@jupyter-widgets/controls",
     "model_name": "FloatProgressModel",
     "state": {
      "_dom_classes": [],
      "_model_module": "@jupyter-widgets/controls",
      "_model_module_version": "1.5.0",
      "_model_name": "FloatProgressModel",
      "_view_count": null,
      "_view_module": "@jupyter-widgets/controls",
      "_view_module_version": "1.5.0",
      "_view_name": "ProgressView",
      "bar_style": "success",
      "description": "",
      "description_tooltip": null,
      "layout": "IPY_MODEL_4758e371e89740509f90902ecdc0330e",
      "max": 1,
      "min": 0,
      "orientation": "horizontal",
      "style": "IPY_MODEL_16a895bb990e4c0c9f71a334c3c9c7a0",
      "value": 1
     }
    },
    "6e1b89e33d0b481095565ad44cb851e1": {
     "model_module": "@jupyter-widgets/controls",
     "model_name": "HTMLModel",
     "state": {
      "_dom_classes": [],
      "_model_module": "@jupyter-widgets/controls",
      "_model_module_version": "1.5.0",
      "_model_name": "HTMLModel",
      "_view_count": null,
      "_view_module": "@jupyter-widgets/controls",
      "_view_module_version": "1.5.0",
      "_view_name": "HTMLView",
      "description": "",
      "description_tooltip": null,
      "layout": "IPY_MODEL_d1fe27b2ada54669b7b36c790bb16b93",
      "placeholder": "​",
      "style": "IPY_MODEL_355806c2f1c840d09f091b2fc649af9e",
      "value": " 1654784/? [00:00&lt;00:00, 2042710.07it/s]"
     }
    },
    "70c30745eee44163a86c255cb62c3c2a": {
     "model_module": "@jupyter-widgets/base",
     "model_name": "LayoutModel",
     "state": {
      "_model_module": "@jupyter-widgets/base",
      "_model_module_version": "1.2.0",
      "_model_name": "LayoutModel",
      "_view_count": null,
      "_view_module": "@jupyter-widgets/base",
      "_view_module_version": "1.2.0",
      "_view_name": "LayoutView",
      "align_content": null,
      "align_items": null,
      "align_self": null,
      "border": null,
      "bottom": null,
      "display": null,
      "flex": null,
      "flex_flow": null,
      "grid_area": null,
      "grid_auto_columns": null,
      "grid_auto_flow": null,
      "grid_auto_rows": null,
      "grid_column": null,
      "grid_gap": null,
      "grid_row": null,
      "grid_template_areas": null,
      "grid_template_columns": null,
      "grid_template_rows": null,
      "height": null,
      "justify_content": null,
      "justify_items": null,
      "left": null,
      "margin": null,
      "max_height": null,
      "max_width": null,
      "min_height": null,
      "min_width": null,
      "object_fit": null,
      "object_position": null,
      "order": null,
      "overflow": null,
      "overflow_x": null,
      "overflow_y": null,
      "padding": null,
      "right": null,
      "top": null,
      "visibility": null,
      "width": null
     }
    },
    "731dd76b8fb54d84868b2b5e4f739b5e": {
     "model_module": "@jupyter-widgets/base",
     "model_name": "LayoutModel",
     "state": {
      "_model_module": "@jupyter-widgets/base",
      "_model_module_version": "1.2.0",
      "_model_name": "LayoutModel",
      "_view_count": null,
      "_view_module": "@jupyter-widgets/base",
      "_view_module_version": "1.2.0",
      "_view_name": "LayoutView",
      "align_content": null,
      "align_items": null,
      "align_self": null,
      "border": null,
      "bottom": null,
      "display": null,
      "flex": null,
      "flex_flow": null,
      "grid_area": null,
      "grid_auto_columns": null,
      "grid_auto_flow": null,
      "grid_auto_rows": null,
      "grid_column": null,
      "grid_gap": null,
      "grid_row": null,
      "grid_template_areas": null,
      "grid_template_columns": null,
      "grid_template_rows": null,
      "height": null,
      "justify_content": null,
      "justify_items": null,
      "left": null,
      "margin": null,
      "max_height": null,
      "max_width": null,
      "min_height": null,
      "min_width": null,
      "object_fit": null,
      "object_position": null,
      "order": null,
      "overflow": null,
      "overflow_x": null,
      "overflow_y": null,
      "padding": null,
      "right": null,
      "top": null,
      "visibility": null,
      "width": null
     }
    },
    "7fa57e010e574de2aeed6f6f35d11183": {
     "model_module": "@jupyter-widgets/base",
     "model_name": "LayoutModel",
     "state": {
      "_model_module": "@jupyter-widgets/base",
      "_model_module_version": "1.2.0",
      "_model_name": "LayoutModel",
      "_view_count": null,
      "_view_module": "@jupyter-widgets/base",
      "_view_module_version": "1.2.0",
      "_view_name": "LayoutView",
      "align_content": null,
      "align_items": null,
      "align_self": null,
      "border": null,
      "bottom": null,
      "display": null,
      "flex": null,
      "flex_flow": null,
      "grid_area": null,
      "grid_auto_columns": null,
      "grid_auto_flow": null,
      "grid_auto_rows": null,
      "grid_column": null,
      "grid_gap": null,
      "grid_row": null,
      "grid_template_areas": null,
      "grid_template_columns": null,
      "grid_template_rows": null,
      "height": null,
      "justify_content": null,
      "justify_items": null,
      "left": null,
      "margin": null,
      "max_height": null,
      "max_width": null,
      "min_height": null,
      "min_width": null,
      "object_fit": null,
      "object_position": null,
      "order": null,
      "overflow": null,
      "overflow_x": null,
      "overflow_y": null,
      "padding": null,
      "right": null,
      "top": null,
      "visibility": null,
      "width": null
     }
    },
    "904ad8ed20fa458f85ea056940a402c9": {
     "model_module": "@jupyter-widgets/base",
     "model_name": "LayoutModel",
     "state": {
      "_model_module": "@jupyter-widgets/base",
      "_model_module_version": "1.2.0",
      "_model_name": "LayoutModel",
      "_view_count": null,
      "_view_module": "@jupyter-widgets/base",
      "_view_module_version": "1.2.0",
      "_view_name": "LayoutView",
      "align_content": null,
      "align_items": null,
      "align_self": null,
      "border": null,
      "bottom": null,
      "display": null,
      "flex": null,
      "flex_flow": null,
      "grid_area": null,
      "grid_auto_columns": null,
      "grid_auto_flow": null,
      "grid_auto_rows": null,
      "grid_column": null,
      "grid_gap": null,
      "grid_row": null,
      "grid_template_areas": null,
      "grid_template_columns": null,
      "grid_template_rows": null,
      "height": null,
      "justify_content": null,
      "justify_items": null,
      "left": null,
      "margin": null,
      "max_height": null,
      "max_width": null,
      "min_height": null,
      "min_width": null,
      "object_fit": null,
      "object_position": null,
      "order": null,
      "overflow": null,
      "overflow_x": null,
      "overflow_y": null,
      "padding": null,
      "right": null,
      "top": null,
      "visibility": null,
      "width": null
     }
    },
    "943273a6194a4743b75fe0e3b3e434e6": {
     "model_module": "@jupyter-widgets/base",
     "model_name": "LayoutModel",
     "state": {
      "_model_module": "@jupyter-widgets/base",
      "_model_module_version": "1.2.0",
      "_model_name": "LayoutModel",
      "_view_count": null,
      "_view_module": "@jupyter-widgets/base",
      "_view_module_version": "1.2.0",
      "_view_name": "LayoutView",
      "align_content": null,
      "align_items": null,
      "align_self": null,
      "border": null,
      "bottom": null,
      "display": null,
      "flex": null,
      "flex_flow": null,
      "grid_area": null,
      "grid_auto_columns": null,
      "grid_auto_flow": null,
      "grid_auto_rows": null,
      "grid_column": null,
      "grid_gap": null,
      "grid_row": null,
      "grid_template_areas": null,
      "grid_template_columns": null,
      "grid_template_rows": null,
      "height": null,
      "justify_content": null,
      "justify_items": null,
      "left": null,
      "margin": null,
      "max_height": null,
      "max_width": null,
      "min_height": null,
      "min_width": null,
      "object_fit": null,
      "object_position": null,
      "order": null,
      "overflow": null,
      "overflow_x": null,
      "overflow_y": null,
      "padding": null,
      "right": null,
      "top": null,
      "visibility": null,
      "width": null
     }
    },
    "a1133bc6d2e44b7e85f5f5edb157c59e": {
     "model_module": "@jupyter-widgets/controls",
     "model_name": "HTMLModel",
     "state": {
      "_dom_classes": [],
      "_model_module": "@jupyter-widgets/controls",
      "_model_module_version": "1.5.0",
      "_model_name": "HTMLModel",
      "_view_count": null,
      "_view_module": "@jupyter-widgets/controls",
      "_view_module_version": "1.5.0",
      "_view_name": "HTMLView",
      "description": "",
      "description_tooltip": null,
      "layout": "IPY_MODEL_fed843bf15b24f8abb432a79725e9346",
      "placeholder": "​",
      "style": "IPY_MODEL_373e3752975e40e9997af17250ae6b43",
      "value": " 9920512/? [00:20&lt;00:00, 3391706.70it/s]"
     }
    },
    "bf03ed887d5942b1b9e1dd93ed3fb6c1": {
     "model_module": "@jupyter-widgets/base",
     "model_name": "LayoutModel",
     "state": {
      "_model_module": "@jupyter-widgets/base",
      "_model_module_version": "1.2.0",
      "_model_name": "LayoutModel",
      "_view_count": null,
      "_view_module": "@jupyter-widgets/base",
      "_view_module_version": "1.2.0",
      "_view_name": "LayoutView",
      "align_content": null,
      "align_items": null,
      "align_self": null,
      "border": null,
      "bottom": null,
      "display": null,
      "flex": null,
      "flex_flow": null,
      "grid_area": null,
      "grid_auto_columns": null,
      "grid_auto_flow": null,
      "grid_auto_rows": null,
      "grid_column": null,
      "grid_gap": null,
      "grid_row": null,
      "grid_template_areas": null,
      "grid_template_columns": null,
      "grid_template_rows": null,
      "height": null,
      "justify_content": null,
      "justify_items": null,
      "left": null,
      "margin": null,
      "max_height": null,
      "max_width": null,
      "min_height": null,
      "min_width": null,
      "object_fit": null,
      "object_position": null,
      "order": null,
      "overflow": null,
      "overflow_x": null,
      "overflow_y": null,
      "padding": null,
      "right": null,
      "top": null,
      "visibility": null,
      "width": null
     }
    },
    "d0f536c9889840a9a8b3e46dd4757241": {
     "model_module": "@jupyter-widgets/base",
     "model_name": "LayoutModel",
     "state": {
      "_model_module": "@jupyter-widgets/base",
      "_model_module_version": "1.2.0",
      "_model_name": "LayoutModel",
      "_view_count": null,
      "_view_module": "@jupyter-widgets/base",
      "_view_module_version": "1.2.0",
      "_view_name": "LayoutView",
      "align_content": null,
      "align_items": null,
      "align_self": null,
      "border": null,
      "bottom": null,
      "display": null,
      "flex": null,
      "flex_flow": null,
      "grid_area": null,
      "grid_auto_columns": null,
      "grid_auto_flow": null,
      "grid_auto_rows": null,
      "grid_column": null,
      "grid_gap": null,
      "grid_row": null,
      "grid_template_areas": null,
      "grid_template_columns": null,
      "grid_template_rows": null,
      "height": null,
      "justify_content": null,
      "justify_items": null,
      "left": null,
      "margin": null,
      "max_height": null,
      "max_width": null,
      "min_height": null,
      "min_width": null,
      "object_fit": null,
      "object_position": null,
      "order": null,
      "overflow": null,
      "overflow_x": null,
      "overflow_y": null,
      "padding": null,
      "right": null,
      "top": null,
      "visibility": null,
      "width": null
     }
    },
    "d1fe27b2ada54669b7b36c790bb16b93": {
     "model_module": "@jupyter-widgets/base",
     "model_name": "LayoutModel",
     "state": {
      "_model_module": "@jupyter-widgets/base",
      "_model_module_version": "1.2.0",
      "_model_name": "LayoutModel",
      "_view_count": null,
      "_view_module": "@jupyter-widgets/base",
      "_view_module_version": "1.2.0",
      "_view_name": "LayoutView",
      "align_content": null,
      "align_items": null,
      "align_self": null,
      "border": null,
      "bottom": null,
      "display": null,
      "flex": null,
      "flex_flow": null,
      "grid_area": null,
      "grid_auto_columns": null,
      "grid_auto_flow": null,
      "grid_auto_rows": null,
      "grid_column": null,
      "grid_gap": null,
      "grid_row": null,
      "grid_template_areas": null,
      "grid_template_columns": null,
      "grid_template_rows": null,
      "height": null,
      "justify_content": null,
      "justify_items": null,
      "left": null,
      "margin": null,
      "max_height": null,
      "max_width": null,
      "min_height": null,
      "min_width": null,
      "object_fit": null,
      "object_position": null,
      "order": null,
      "overflow": null,
      "overflow_x": null,
      "overflow_y": null,
      "padding": null,
      "right": null,
      "top": null,
      "visibility": null,
      "width": null
     }
    },
    "e67a7ba7ca914170ba6da373169f48a1": {
     "model_module": "@jupyter-widgets/controls",
     "model_name": "ProgressStyleModel",
     "state": {
      "_model_module": "@jupyter-widgets/controls",
      "_model_module_version": "1.5.0",
      "_model_name": "ProgressStyleModel",
      "_view_count": null,
      "_view_module": "@jupyter-widgets/base",
      "_view_module_version": "1.2.0",
      "_view_name": "StyleView",
      "bar_color": null,
      "description_width": "initial"
     }
    },
    "ec99f557cd314db59a3f80acbbf68645": {
     "model_module": "@jupyter-widgets/controls",
     "model_name": "ProgressStyleModel",
     "state": {
      "_model_module": "@jupyter-widgets/controls",
      "_model_module_version": "1.5.0",
      "_model_name": "ProgressStyleModel",
      "_view_count": null,
      "_view_module": "@jupyter-widgets/base",
      "_view_module_version": "1.2.0",
      "_view_name": "StyleView",
      "bar_color": null,
      "description_width": "initial"
     }
    },
    "f30eae6d433847e89071dbd5990d6bce": {
     "model_module": "@jupyter-widgets/controls",
     "model_name": "FloatProgressModel",
     "state": {
      "_dom_classes": [],
      "_model_module": "@jupyter-widgets/controls",
      "_model_module_version": "1.5.0",
      "_model_name": "FloatProgressModel",
      "_view_count": null,
      "_view_module": "@jupyter-widgets/controls",
      "_view_module_version": "1.5.0",
      "_view_name": "ProgressView",
      "bar_style": "info",
      "description": "",
      "description_tooltip": null,
      "layout": "IPY_MODEL_70c30745eee44163a86c255cb62c3c2a",
      "max": 1,
      "min": 0,
      "orientation": "horizontal",
      "style": "IPY_MODEL_ec99f557cd314db59a3f80acbbf68645",
      "value": 1
     }
    },
    "f3d6c1fe091949fc8eccfc799aaf5650": {
     "model_module": "@jupyter-widgets/base",
     "model_name": "LayoutModel",
     "state": {
      "_model_module": "@jupyter-widgets/base",
      "_model_module_version": "1.2.0",
      "_model_name": "LayoutModel",
      "_view_count": null,
      "_view_module": "@jupyter-widgets/base",
      "_view_module_version": "1.2.0",
      "_view_name": "LayoutView",
      "align_content": null,
      "align_items": null,
      "align_self": null,
      "border": null,
      "bottom": null,
      "display": null,
      "flex": null,
      "flex_flow": null,
      "grid_area": null,
      "grid_auto_columns": null,
      "grid_auto_flow": null,
      "grid_auto_rows": null,
      "grid_column": null,
      "grid_gap": null,
      "grid_row": null,
      "grid_template_areas": null,
      "grid_template_columns": null,
      "grid_template_rows": null,
      "height": null,
      "justify_content": null,
      "justify_items": null,
      "left": null,
      "margin": null,
      "max_height": null,
      "max_width": null,
      "min_height": null,
      "min_width": null,
      "object_fit": null,
      "object_position": null,
      "order": null,
      "overflow": null,
      "overflow_x": null,
      "overflow_y": null,
      "padding": null,
      "right": null,
      "top": null,
      "visibility": null,
      "width": null
     }
    },
    "f9d1a6045e634d00a5bdb16fcf751608": {
     "model_module": "@jupyter-widgets/controls",
     "model_name": "HBoxModel",
     "state": {
      "_dom_classes": [],
      "_model_module": "@jupyter-widgets/controls",
      "_model_module_version": "1.5.0",
      "_model_name": "HBoxModel",
      "_view_count": null,
      "_view_module": "@jupyter-widgets/controls",
      "_view_module_version": "1.5.0",
      "_view_name": "HBoxView",
      "box_style": "",
      "children": [
       "IPY_MODEL_f30eae6d433847e89071dbd5990d6bce",
       "IPY_MODEL_a1133bc6d2e44b7e85f5f5edb157c59e"
      ],
      "layout": "IPY_MODEL_bf03ed887d5942b1b9e1dd93ed3fb6c1"
     }
    },
    "fd426b5f586a43ff81eb71ddc5549fa1": {
     "model_module": "@jupyter-widgets/base",
     "model_name": "LayoutModel",
     "state": {
      "_model_module": "@jupyter-widgets/base",
      "_model_module_version": "1.2.0",
      "_model_name": "LayoutModel",
      "_view_count": null,
      "_view_module": "@jupyter-widgets/base",
      "_view_module_version": "1.2.0",
      "_view_name": "LayoutView",
      "align_content": null,
      "align_items": null,
      "align_self": null,
      "border": null,
      "bottom": null,
      "display": null,
      "flex": null,
      "flex_flow": null,
      "grid_area": null,
      "grid_auto_columns": null,
      "grid_auto_flow": null,
      "grid_auto_rows": null,
      "grid_column": null,
      "grid_gap": null,
      "grid_row": null,
      "grid_template_areas": null,
      "grid_template_columns": null,
      "grid_template_rows": null,
      "height": null,
      "justify_content": null,
      "justify_items": null,
      "left": null,
      "margin": null,
      "max_height": null,
      "max_width": null,
      "min_height": null,
      "min_width": null,
      "object_fit": null,
      "object_position": null,
      "order": null,
      "overflow": null,
      "overflow_x": null,
      "overflow_y": null,
      "padding": null,
      "right": null,
      "top": null,
      "visibility": null,
      "width": null
     }
    },
    "fed843bf15b24f8abb432a79725e9346": {
     "model_module": "@jupyter-widgets/base",
     "model_name": "LayoutModel",
     "state": {
      "_model_module": "@jupyter-widgets/base",
      "_model_module_version": "1.2.0",
      "_model_name": "LayoutModel",
      "_view_count": null,
      "_view_module": "@jupyter-widgets/base",
      "_view_module_version": "1.2.0",
      "_view_name": "LayoutView",
      "align_content": null,
      "align_items": null,
      "align_self": null,
      "border": null,
      "bottom": null,
      "display": null,
      "flex": null,
      "flex_flow": null,
      "grid_area": null,
      "grid_auto_columns": null,
      "grid_auto_flow": null,
      "grid_auto_rows": null,
      "grid_column": null,
      "grid_gap": null,
      "grid_row": null,
      "grid_template_areas": null,
      "grid_template_columns": null,
      "grid_template_rows": null,
      "height": null,
      "justify_content": null,
      "justify_items": null,
      "left": null,
      "margin": null,
      "max_height": null,
      "max_width": null,
      "min_height": null,
      "min_width": null,
      "object_fit": null,
      "object_position": null,
      "order": null,
      "overflow": null,
      "overflow_x": null,
      "overflow_y": null,
      "padding": null,
      "right": null,
      "top": null,
      "visibility": null,
      "width": null
     }
    }
   }
  }
 },
 "nbformat": 4,
 "nbformat_minor": 1
}
